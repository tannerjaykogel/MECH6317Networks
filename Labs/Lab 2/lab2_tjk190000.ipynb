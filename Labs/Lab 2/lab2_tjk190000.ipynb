{
 "cells": [
  {
   "cell_type": "markdown",
   "metadata": {
    "tags": []
   },
   "source": [
    "# Lab 2"
   ]
  },
  {
   "cell_type": "markdown",
   "metadata": {
    "tags": []
   },
   "source": [
    "#### Tanner Kogel tjk190000"
   ]
  },
  {
   "cell_type": "markdown",
   "metadata": {},
   "source": [
    "##### MECH 6317.001: Dynaics of Complex Networks & Systems"
   ]
  },
  {
   "cell_type": "markdown",
   "metadata": {},
   "source": [
    "imoport all important libraries"
   ]
  },
  {
   "cell_type": "code",
   "execution_count": 1,
   "metadata": {},
   "outputs": [],
   "source": [
    "import networkx as nx\n",
    "import sys\n",
    "import numpy\n",
    "import itertools\n",
    "import asyncio"
   ]
  },
  {
   "cell_type": "markdown",
   "metadata": {
    "tags": []
   },
   "source": [
    "## Section 6.9: Degree"
   ]
  },
  {
   "cell_type": "markdown",
   "metadata": {
    "jp-MarkdownHeadingCollapsed": true,
    "tags": []
   },
   "source": [
    "### Identify an example type of network of when it is a good thing to be a high degree node and an example of when it is a bad thing to be a high degree node in a network."
   ]
  },
  {
   "cell_type": "markdown",
   "metadata": {},
   "source": [
    "An example of a network when it is a good thing to be a high degree node would be a netowrk where the nodes are airports and the edges are direct flights, because traveling would become very easy"
   ]
  },
  {
   "cell_type": "markdown",
   "metadata": {},
   "source": [
    "An example of a network when it is a bad thing to be a high degree would be a network where the nodes are people and the edges are transmissions of diseases"
   ]
  },
  {
   "cell_type": "markdown",
   "metadata": {
    "jp-MarkdownHeadingCollapsed": true,
    "tags": []
   },
   "source": [
    "### Describe or draw an example of a network in which a particular node has very few connections, but it could be argued that it is a very important node. Justify your reasoning."
   ]
  },
  {
   "cell_type": "markdown",
   "metadata": {},
   "source": [
    "An example of a network in which a particular node has very few connections, but it could be argued that is a very important node is the previous example network, where nodes are people and the edges are trasmissions of diseases, because a node with a small degree (few neighbors) could be an important node by possibly having an immunity and be able to help find a cure."
   ]
  },
  {
   "cell_type": "markdown",
   "metadata": {},
   "source": [
    "### Explain what equation (6.25) in Newman actually means - i.e., what is a simpler way to explain what the two summations mean?"
   ]
  },
  {
   "cell_type": "markdown",
   "metadata": {},
   "source": [
    "The incoming degree of a node in a directed network is the sum of the values in the row that represents that node, and the outgoing degree of that node is the sum of the values in the column that represents that node."
   ]
  },
  {
   "cell_type": "markdown",
   "metadata": {
    "tags": []
   },
   "source": [
    "## Section 6.10-6.11: Paths & Components"
   ]
  },
  {
   "cell_type": "markdown",
   "metadata": {
    "jp-MarkdownHeadingCollapsed": true,
    "tags": []
   },
   "source": [
    "### write down the adjacency matrix of the network shown in the diagram of the lab manual"
   ]
  },
  {
   "cell_type": "code",
   "execution_count": 2,
   "metadata": {},
   "outputs": [
    {
     "name": "stdout",
     "output_type": "stream",
     "text": [
      "[[0, 0, 0, 0, 0], [1, 0, 0, 0, 0], [1, 1, 0, 0, 0], [0, 1, 1, 0, 0], [0, 0, 1, 1, 0]]\n"
     ]
    }
   ],
   "source": [
    "A = [[0,0,0,0,0],\n",
    "     [1,0,0,0,0],\n",
    "     [1,1,0,0,0],\n",
    "     [0,1,1,0,0],\n",
    "     [0,0,1,1,0]]\n",
    "print(A)"
   ]
  },
  {
   "cell_type": "markdown",
   "metadata": {
    "jp-MarkdownHeadingCollapsed": true,
    "tags": []
   },
   "source": [
    "### write down the adjacency matrix twice and multiply them to get A^2"
   ]
  },
  {
   "cell_type": "code",
   "execution_count": 3,
   "metadata": {},
   "outputs": [
    {
     "name": "stdout",
     "output_type": "stream",
     "text": [
      "[[0, 0, 0, 0, 0], [1, 0, 0, 0, 0], [1, 1, 0, 0, 0], [0, 1, 1, 0, 0], [0, 0, 1, 1, 0]]\n",
      "[[0, 0, 0, 0, 0], [1, 0, 0, 0, 0], [1, 1, 0, 0, 0], [0, 1, 1, 0, 0], [0, 0, 1, 1, 0]]\n",
      "[[0 0 0 0 0]\n",
      " [0 0 0 0 0]\n",
      " [1 0 0 0 0]\n",
      " [2 1 0 0 0]\n",
      " [1 2 1 0 0]]\n"
     ]
    }
   ],
   "source": [
    "print(A)\n",
    "print(A)\n",
    "print(numpy.dot(A,A))"
   ]
  },
  {
   "cell_type": "markdown",
   "metadata": {},
   "source": [
    "each nonzero element describes the existent of n paths from node j to node i of length 2"
   ]
  },
  {
   "cell_type": "markdown",
   "metadata": {
    "jp-MarkdownHeadingCollapsed": true,
    "tags": []
   },
   "source": [
    "### the paths described in each cell of A^2 are described here:"
   ]
  },
  {
   "cell_type": "markdown",
   "metadata": {},
   "source": [
    "#### 0,2\n",
    "##### 0 --> 1 --> 2\n",
    "### 0,3\n",
    "#### 0 --> 1 --> 3\n",
    "#### 0 --> 2 --> 3\n",
    "### 0,4\n",
    "#### 0 --> 2 --> 4\n",
    "### 1,3\n",
    "#### 1 --> 2 --> 3\n",
    "### 1,4\n",
    "#### 1 --> 2 --> 4\n",
    "#### 1 --> 3 --> 4\n",
    "### 2,4\n",
    "#### 2 --> 3 --> 4"
   ]
  },
  {
   "cell_type": "markdown",
   "metadata": {
    "jp-MarkdownHeadingCollapsed": true,
    "tags": []
   },
   "source": [
    "### use the vector x = [1,0,0,0,0].T to analyze A"
   ]
  },
  {
   "cell_type": "markdown",
   "metadata": {},
   "source": [
    "multiply Ax, A^2x=A(Ax), and A^3x=A(A(Ax))"
   ]
  },
  {
   "cell_type": "code",
   "execution_count": 4,
   "metadata": {},
   "outputs": [
    {
     "name": "stdout",
     "output_type": "stream",
     "text": [
      "[[0]\n",
      " [1]\n",
      " [1]\n",
      " [0]\n",
      " [0]]\n",
      "[[0]\n",
      " [0]\n",
      " [1]\n",
      " [2]\n",
      " [1]]\n",
      "[[0]\n",
      " [0]\n",
      " [0]\n",
      " [1]\n",
      " [3]]\n"
     ]
    }
   ],
   "source": [
    "x = [[1],\n",
    "     [0],\n",
    "     [0],\n",
    "     [0],\n",
    "     [0]]\n",
    "A2 = numpy.dot(A,A)\n",
    "A3 = numpy.dot(A2,A)\n",
    "print(numpy.dot(A,x))\n",
    "print(numpy.dot(A2,x))\n",
    "print(numpy.dot(A3,x))"
   ]
  },
  {
   "cell_type": "markdown",
   "metadata": {},
   "source": [
    "The multiplication by x, returns the first column of the matrix it is being multiplied by. In terms of the network meaning, it represents the number of r-length paths from node 0 to each node in the graph where r is the power of the adjacency matrix A. For example, in the column vector printed second, the first two values are zero, meaning there are no paths of length two between node 0 and nodes 0 and 1. The values of one in indeces 2 and 4 indicate one path of length two between node 0 and nodes 2 and 4, and finally the value of two in index 3 indicates two paths of length two between node 0 and node 3."
   ]
  },
  {
   "cell_type": "markdown",
   "metadata": {
    "jp-MarkdownHeadingCollapsed": true,
    "tags": []
   },
   "source": [
    "### repeat this process with a the new definition of x = [0,0,1,0,0].T "
   ]
  },
  {
   "cell_type": "code",
   "execution_count": 5,
   "metadata": {},
   "outputs": [
    {
     "name": "stdout",
     "output_type": "stream",
     "text": [
      "[[0]\n",
      " [0]\n",
      " [0]\n",
      " [1]\n",
      " [1]]\n",
      "[[0]\n",
      " [0]\n",
      " [0]\n",
      " [0]\n",
      " [1]]\n",
      "[[0]\n",
      " [0]\n",
      " [0]\n",
      " [0]\n",
      " [0]]\n"
     ]
    }
   ],
   "source": [
    "x = [[0],\n",
    "     [0],\n",
    "     [1],\n",
    "     [0],\n",
    "     [0]]\n",
    "A2 = numpy.dot(A,A)\n",
    "A3 = numpy.dot(A2,A)\n",
    "print(numpy.dot(A,x))\n",
    "print(numpy.dot(A2,x))\n",
    "print(numpy.dot(A3,x))"
   ]
  },
  {
   "cell_type": "markdown",
   "metadata": {},
   "source": [
    "This observation does generalize, because this new definition of x takes out the third column of the matrix it is multiplied by, meaning that the meanings of these values are the same as seen in the previous section, but for node 2 instead of node 0."
   ]
  },
  {
   "cell_type": "markdown",
   "metadata": {
    "tags": []
   },
   "source": [
    "### Filled in Stub Code"
   ]
  },
  {
   "cell_type": "code",
   "execution_count": 6,
   "metadata": {},
   "outputs": [],
   "source": [
    "import networkx as nx\n",
    "import sys\n",
    "sys.path.append('../d3networkx/')\n",
    "import d3networkx as d3nx\n",
    "from d3graph import D3Graph, D3DiGraph\n",
    "from numpy import *\n",
    "from time import time\n",
    "import asyncio\n",
    "\n",
    "def square_grid(n,d3,G,x0=100,y0=100,w=50):\n",
    "    if G is None:\n",
    "        G = D3Graph()\n",
    "    # find the dimensions for the grid that are as close as possible\n",
    "    num_rows = int(floor(sqrt(n)))\n",
    "    while n % num_rows != 0:\n",
    "        num_rows += 1\n",
    "    num_cols = int(n/num_rows)\n",
    "    \n",
    "    # Add all the nodes\n",
    "    G.add_nodes_from(range(n))\n",
    "        \n",
    "    # Add the edges and position the nodes\n",
    "    for i in range(num_rows):\n",
    "        for j in range(num_cols):\n",
    "            n = num_cols*i + j\n",
    "            d3.position_node(n,x0+i*w,y0+j*w)\n",
    "            if i < num_rows-1:\n",
    "                G.add_edge(n,n+num_cols) # add edge down\n",
    "            if j < num_cols-1:\n",
    "                G.add_edge(n,n+1) # add edge right\n",
    "\n",
    "async def propagate(G,d3,x,steps,slp=0.5,keep_highlights=False,update_at_end=False):\n",
    "    interactive = d3.interactive\n",
    "    d3.set_interactive(False)\n",
    "    A = nx.to_numpy_array(G).T  # adjacency matrix\n",
    "    d3.highlight_nodes_by_index(list(where(x>0)[0]))\n",
    "    d3.update()\n",
    "    await asyncio.sleep(slp)\n",
    "    cum_highlighted = sign(x)\n",
    "    for i in range(steps): # the brains\n",
    "        x = sign(dot(A,x)) # the brains\n",
    "        cum_highlighted = sign(cum_highlighted+x)\n",
    "        if not update_at_end:\n",
    "            if not keep_highlights:\n",
    "                d3.clear_highlights()\n",
    "            d3.highlight_nodes_by_index(list(where(x>0)[0]))\n",
    "            d3.update()\n",
    "            await asyncio.sleep(slp)\n",
    "    if update_at_end:\n",
    "        if not keep_highlights:\n",
    "            d3.clear_highlights()\n",
    "            d3.highlight_nodes_by_index(list(where(x>0)[0]))\n",
    "        else:\n",
    "            d3.highlight_nodes_by_index(list(where(cum_highlighted>0)[0]))\n",
    "        d3.update()\n",
    "    d3.set_interactive(interactive)\n",
    "    if keep_highlights:\n",
    "        return cum_highlighted\n",
    "    else:\n",
    "        return x "
   ]
  },
  {
   "cell_type": "markdown",
   "metadata": {},
   "source": [
    "This next line starts up the visualizer. It will start some background code that sends data to the visualizer and then it will open a new browser window where the visualizer will live. Once you have the visualizer running, you can leave it running for the entire session, so don't re-run this block. If you close the `visualizer.html` (or hit refresh), you will need to reestablish this connection. In this case, you should click the refresh button in the Jupyter notebook (not for the webpage) to restart the kernel (which will clear your variables and Python environment)."
   ]
  },
  {
   "cell_type": "code",
   "execution_count": 7,
   "metadata": {},
   "outputs": [
    {
     "name": "stdout",
     "output_type": "stream",
     "text": [
      "websocket server started...networkx connected...visualizer connected..."
     ]
    }
   ],
   "source": [
    "d3 = await d3nx.create_d3nx_visualizer(canvas_size=(1000,800))\n",
    "#d3 = await d3nx.create_d3nx_visualizer(canvas_size=(1200,1000))\n",
    "d3.clear()"
   ]
  },
  {
   "cell_type": "markdown",
   "metadata": {},
   "source": [
    "#### Launching the Visualizer Manually"
   ]
  },
  {
   "cell_type": "markdown",
   "metadata": {},
   "source": [
    "If the visualizer does not launch automatically, then you'll need to open it manually. After running the line above, use the following line to determine the communication port that the visualizer is using:"
   ]
  },
  {
   "cell_type": "markdown",
   "metadata": {},
   "source": [
    "The port is a 4-digit number. Go to the file *visualizer.html* in the d3networkx folder. Double click on it to open it (do not open it in JupyterLabs). In the url, add the following (without the quotes) to the end of the url: \"&port=1234\" and replace 1234 with the 4-digit port above. A different port is selected each time you run the `d3 = await d3nx.create_d3nx_visualizer()` command. So as long as you don't run that command again (or restart the kernel, or close JupyterLab, that port should still continue to work)"
   ]
  },
  {
   "cell_type": "markdown",
   "metadata": {
    "tags": []
   },
   "source": [
    "#### Grid Network"
   ]
  },
  {
   "cell_type": "code",
   "execution_count": 8,
   "metadata": {},
   "outputs": [],
   "source": [
    "d3.clear()\n",
    "d3.set_interactive(False)\n",
    "G = D3Graph()\n",
    "d3.set_graph(G)\n",
    "square_grid(144,d3,G,x0=75,y0=70)\n",
    "d3.update()"
   ]
  },
  {
   "cell_type": "markdown",
   "metadata": {},
   "source": [
    "The above code block creates a square graph of which 100 nodes in the center of the graph have a degree of 4, 40 nodes along the edges of the graph have a degree of 3, and 4 nodes at the corners of the graph have a degree 2. A histogram of these findings are in the supplimental material following the python code for this lab."
   ]
  },
  {
   "cell_type": "code",
   "execution_count": 9,
   "metadata": {},
   "outputs": [],
   "source": [
    "x = zeros((G.number_of_nodes(),1))\n",
    "x[0] = 1\n",
    "await propagate(G,d3,x,10,slp=1);"
   ]
  },
  {
   "cell_type": "markdown",
   "metadata": {},
   "source": [
    "the above code block creates a pattern where at each step it highlights the nodes that can be reached in r steps from node 0. the pattern stops where it does because it is set to start at r=0, and end at r=10, as indicated in the call of the function. The propogation could go further if the number 10 was changed to a higher number, the function would continue looping for longer paths"
   ]
  },
  {
   "cell_type": "markdown",
   "metadata": {},
   "source": [
    "#### Directed Network"
   ]
  },
  {
   "cell_type": "code",
   "execution_count": 10,
   "metadata": {},
   "outputs": [],
   "source": [
    "d3.clear()\n",
    "G = D3DiGraph(nx.read_weighted_edgelist('lab2.edgelist',create_using=nx.DiGraph))\n",
    "d3.set_graph(G)\n",
    "d3.update()"
   ]
  },
  {
   "cell_type": "markdown",
   "metadata": {
    "tags": []
   },
   "source": [
    "##### add code to propogate this network starting at node 0 for 10 steps"
   ]
  },
  {
   "cell_type": "code",
   "execution_count": 11,
   "metadata": {},
   "outputs": [],
   "source": [
    "x = zeros((G.number_of_nodes(),1)) # create a column vector x of size n populated by zeros\n",
    "x[0] = 1                           # set the first value of x to 1\n",
    "await propagate(G,d3,x,10,slp=1);  # propagate the network from node 0 for 10 steps"
   ]
  },
  {
   "cell_type": "markdown",
   "metadata": {},
   "source": [
    "the end result of the above code block is that the pattern is shown for the first four steps and no nodes are highlighted for the following steps"
   ]
  },
  {
   "cell_type": "markdown",
   "metadata": {},
   "source": [
    "A^10 is a 4x4 square matrix populated entirely by zeros"
   ]
  },
  {
   "cell_type": "markdown",
   "metadata": {},
   "source": [
    "This happens from a network path point of view because this directed network has no directed loops, so any directed path eventually gets to node 4, and once the directed path reaches node 4 it cannot move to another node by following the directions of the edges. The longest path from node 0 to node 4 has a length of 4, so after the 4-step iteration of the loop, no nodes are highlighted."
   ]
  },
  {
   "cell_type": "markdown",
   "metadata": {},
   "source": [
    "this happens from a linear algebra point of view because A is a matrix that is (or could be in a general case) organized in a way such that all nonzero elements are above the diagonal of the matrix, making A a noninvertable, or singular matrix"
   ]
  },
  {
   "cell_type": "markdown",
   "metadata": {},
   "source": [
    "##### propogate the network starting at node 1 wih keep_highlights=True to show the out-component of node 1"
   ]
  },
  {
   "cell_type": "code",
   "execution_count": 12,
   "metadata": {},
   "outputs": [
    {
     "name": "stdout",
     "output_type": "stream",
     "text": [
      "[[0.]\n",
      " [1.]\n",
      " [1.]\n",
      " [1.]\n",
      " [1.]]\n"
     ]
    }
   ],
   "source": [
    "d3.clear_highlights()                                                         # clear highlights from visualizer\n",
    "x = zeros((G.number_of_nodes(),1))                                            # create a column vector of size n  populated by zeros\n",
    "x[1] = 1                                                                      # set the index 1 value of x to 1\n",
    "x = await propagate(G,d3,x,10,slp=1,keep_highlights=True,update_at_end=True); # propagate the network from node 1 for 10 steps\n",
    "print(x)                                                                      # print column vector of all highlighted nodes"
   ]
  },
  {
   "cell_type": "markdown",
   "metadata": {},
   "source": [
    "The out-component is what I predicted. Due to all numbers pointing to the two nodes of greater value than them I hypothesized that the out-component would include everything all nodes of index 1 or greater"
   ]
  },
  {
   "cell_type": "markdown",
   "metadata": {},
   "source": [
    "##### Without changing the code within the propagate function, how could we use it to find in-components instead of out-components"
   ]
  },
  {
   "cell_type": "markdown",
   "metadata": {},
   "source": [
    "create a new graph G_reverse that is identical to G, but all the edges point in the opposite direction"
   ]
  },
  {
   "cell_type": "code",
   "execution_count": 13,
   "metadata": {},
   "outputs": [
    {
     "name": "stdout",
     "output_type": "stream",
     "text": [
      "[[1.]\n",
      " [1.]\n",
      " [0.]\n",
      " [0.]\n",
      " [0.]]\n"
     ]
    }
   ],
   "source": [
    "d3.clear_highlights()               # clear highlights from visualizer\n",
    "G_reverse = d3nx.DiGraph()          # initialize a graph G_reverse to point in opposite direction as G\n",
    "G_reverse.add_nodes_from(G.nodes()) # ensure nodes are the same\n",
    "for i in G.edges():                 # loop for every edge in G\n",
    "    G_reverse.add_edge(i[1],i[0])   # add an edge that points the opposite direction\n",
    "\n",
    "x = zeros((G_reverse.number_of_nodes(),1))                                            # create a zero  column vector of size n\n",
    "x[1] = 1                                                                              # set the index 1 value of x to 1\n",
    "x = await propagate(G_reverse,d3,x,10,slp=1,keep_highlights=True,update_at_end=True); # propagate the network from node 1 for 10 steps\n",
    "print(x)                                                                              # print column vector of all highlighted nodes"
   ]
  },
  {
   "cell_type": "markdown",
   "metadata": {},
   "source": [
    "there is no strongly connected component in this network because the graph is acyclic"
   ]
  },
  {
   "cell_type": "markdown",
   "metadata": {},
   "source": [
    "#### E. coli Protein Network"
   ]
  },
  {
   "cell_type": "code",
   "execution_count": 23,
   "metadata": {},
   "outputs": [
    {
     "name": "stdout",
     "output_type": "stream",
     "text": [
      "Ecoli has 418 nodes.\n"
     ]
    }
   ],
   "source": [
    "d3.clear()\n",
    "G = D3DiGraph(nx.read_weighted_edgelist('ecoli.edgelist',create_using=nx.DiGraph))\n",
    "d3.set_interactive(False)\n",
    "d3.set_graph(G)\n",
    "d3.set_interactive(True)\n",
    "d3.update()\n",
    "print('Ecoli has %i nodes.' % G.number_of_nodes())"
   ]
  },
  {
   "cell_type": "markdown",
   "metadata": {},
   "source": [
    "##### find the out-components of node with index 2 and print out the size of the component"
   ]
  },
  {
   "cell_type": "code",
   "execution_count": 24,
   "metadata": {},
   "outputs": [
    {
     "name": "stdout",
     "output_type": "stream",
     "text": [
      "3\n"
     ]
    }
   ],
   "source": [
    "d3.clear_highlights()                                                     # clear highlihghts from the visualizer\n",
    "x = zeros((G.number_of_nodes(),1))                                        # create a column vector of size n  populated by zeros\n",
    "x[2] = 1                                                                  # set the index 2 value of x to 1\n",
    "x = await propagate(G,d3,x,417,keep_highlights=True,update_at_end=True);  # propagate the network from node 2 for n steps\n",
    "print(size(list(where(x>0)[0])))                                          # print size of the component"
   ]
  },
  {
   "cell_type": "markdown",
   "metadata": {},
   "source": [
    "##### find the out-components of node with index 16 and print out the size of the component"
   ]
  },
  {
   "cell_type": "code",
   "execution_count": 25,
   "metadata": {},
   "outputs": [
    {
     "name": "stdout",
     "output_type": "stream",
     "text": [
      "22\n"
     ]
    }
   ],
   "source": [
    "d3.clear_highlights()                                                     # clear highlihghts from the visualizer\n",
    "x = zeros((G.number_of_nodes(),1))                                        # create a column vector of size n  populated by zeros\n",
    "x[16] = 1                                                                 # set the index 2 value of x to 1\n",
    "x = await propagate(G,d3,x,417,keep_highlights=True,update_at_end=True);  # propagate the network from node 2 for n steps\n",
    "print(size(list(where(x>0)[0])))                                          # print size of the component"
   ]
  },
  {
   "cell_type": "markdown",
   "metadata": {},
   "source": [
    "the minimum value of steps that guarantees that you will find the entire out-component is n-1, where n is the number of nodes in the network"
   ]
  },
  {
   "cell_type": "markdown",
   "metadata": {},
   "source": [
    "##### create a function to find the diameter and path of a graph with multiple componenets"
   ]
  },
  {
   "cell_type": "code",
   "execution_count": 26,
   "metadata": {},
   "outputs": [
    {
     "name": "stdout",
     "output_type": "stream",
     "text": [
      "Diameter of graph: 5\n",
      "Path of Diameter:\n",
      "['190', '292', '136', '137', '133']\n"
     ]
    }
   ],
   "source": [
    "def diameter2(G):\n",
    "    spaths = dict(nx.all_pairs_shortest_path(G)) # get shortest path between all pairs\n",
    "    diameter = 0                                 # set diameter value at 0\n",
    "    for i in spaths.values():                    # loop for each key in the outer dict & give the value\n",
    "        for j in i.values():                     # loop for each key in the inner dict & give the value\n",
    "            if size(j) > diameter:               # path of note (longer than previous longest path)\n",
    "                diameter = size(j)               # record length of longest shortest path (so far)\n",
    "                path = j                         # record longest shortest path (so far)\n",
    "    d3.highlight_nodes(path)                     # highlight path on visualizer\n",
    "    d3.update()                                  # load new highlights to visualizer\n",
    "    return diameter, path                        # return appropriate values for diameter and path\n",
    "\n",
    "d3.clear_highlights()                     # clear visualizer of previous highlights\n",
    "[diameter,path] = diameter2(G)            # use diameter2 function to find diameter and path\n",
    "print('Diameter of graph: %i' % diameter) # print diameter of E. Coli graph\n",
    "print('Path of Diameter:')                # print path diameter label\n",
    "print(path)                               # print path of diameter"
   ]
  },
  {
   "cell_type": "markdown",
   "metadata": {
    "tags": []
   },
   "source": [
    "## Section 6.12: Flows & Cut Sets"
   ]
  },
  {
   "cell_type": "markdown",
   "metadata": {
    "tags": []
   },
   "source": [
    "### create functions that create the best and worst running time for the augmented path algorithm for a graph of n nodes"
   ]
  },
  {
   "cell_type": "markdown",
   "metadata": {},
   "source": [
    "the worst_graph function creates a graph where every node points to every other node in the network, thus having the maximum number of edges (without self-edges) and maximum number of independent paths"
   ]
  },
  {
   "cell_type": "markdown",
   "metadata": {},
   "source": [
    "the best_graph function creates a graph where every node i points to i+1 within the range n, the simplest way to make a (weakly) connected graph with only one independent path between any two nodes"
   ]
  },
  {
   "cell_type": "code",
   "execution_count": 18,
   "metadata": {},
   "outputs": [
    {
     "name": "stdout",
     "output_type": "stream",
     "text": [
      "min cut for worst graph took 6.57 seconds\n",
      "min cut for best graph took 0.02 seconds\n"
     ]
    }
   ],
   "source": [
    "# create directed graph that will have worst computing time for augmented path algorithm\n",
    "def worst_graph(n):\n",
    "    G = nx.DiGraph()                       # initialize G as a directed graph\n",
    "    G.add_nodes_from(range(n))             # add all nodes in range to G\n",
    "    for i in G.nodes():                    # loop for every node in G (predecessor)\n",
    "        for j in G.nodes():                # loop for every node in G (successor)\n",
    "            if i != j:                     # prevent self-loop\n",
    "                G.add_edge(i,j,capacity=1) # add directed edge from every node to every node that is not itself\n",
    "    return G\n",
    "\n",
    "# create directed graph that will have best computing time for augmented path algorithm\n",
    "def best_graph(n):\n",
    "    G = nx.DiGraph()                     # initialize G as a directed graph\n",
    "    G.add_nodes_from(range(n))           # add all nodes in range to G\n",
    "    for i in G.nodes():                  # loop for every node in G (predecessor)\n",
    "        if i > 0:                        # do not create path for last node\n",
    "            G.add_edge(i-1,i,capacity=1) # add directed from node i to node i+1 in range\n",
    "    return G \n",
    "\n",
    "# worst graph check\n",
    "G = worst_graph(1000)                                                       # create worst graph with 1000 nodes\n",
    "start_time = time()                                                         # save start time\n",
    "worst_cut_value, worst_partition = nx.minimum_cut(G,0,999)                  # run the augmented path algorithm with worst graph\n",
    "print('min cut for worst graph took %1.2f seconds' % (time() - start_time)) # print run time of algorithm for worst graph\n",
    "\n",
    "# best graph check\n",
    "G = best_graph(1000)                                                       # create worst graph with 1000 nodes\n",
    "start_time = time()                                                        # save start time\n",
    "best_cut_value, best_partition = nx.minimum_cut(G,0,999)                   # run the augmented path algorithm with worst graph\n",
    "print('min cut for best graph took %1.2f seconds' % (time() - start_time)) # print run time of algorithm for worst graph"
   ]
  },
  {
   "cell_type": "markdown",
   "metadata": {},
   "source": [
    "### explain why a project activity network should be an acyclic directed network and why cycles would be a bad way to organize it."
   ]
  },
  {
   "cell_type": "markdown",
   "metadata": {},
   "source": [
    "a project activity network should be an acyclic directed network because the graph should be sequential, move from start to finish without backtracking at all, because that could cause a loop, preventing the project from finishing at all"
   ]
  },
  {
   "cell_type": "markdown",
   "metadata": {},
   "source": [
    "### use the Bellman-Ford shortest path algorithm to find the length and activity sequence of the critical path in the pert.gml activity network"
   ]
  },
  {
   "cell_type": "code",
   "execution_count": 70,
   "metadata": {},
   "outputs": [
    {
     "name": "stdout",
     "output_type": "stream",
     "text": [
      "The critical path of the activity sequence: ['Lead time', 'Obtain valves', 'Fit valves', 'Finish valve chambers', 'Leave site']\n",
      "The length of the activity sequence is 48 units\n"
     ]
    }
   ],
   "source": [
    "G = nx.read_gml('pert.gml','name') # read in the network shown in the lab manual\n",
    "\n",
    "critical_path = nx.bellman_ford_path(G,'Lead time','Leave site')          # find critical path of activity sequence\n",
    "critical_length = nx.bellman_ford_path_length(G,'Lead time','Leave site') # find length of critical path\n",
    "# print out length and activity sequence of critical path\n",
    "print('The critical path of the activity sequence:', critical_path)\n",
    "print ('The length of the activity sequence is %i units' % critical_length)"
   ]
  },
  {
   "cell_type": "markdown",
   "metadata": {},
   "source": [
    "### calculate the minimum cut set and the cut set size from “Lead time” to “Leave site”"
   ]
  },
  {
   "cell_type": "code",
   "execution_count": 71,
   "metadata": {},
   "outputs": [
    {
     "name": "stdout",
     "output_type": "stream",
     "text": [
      "minimum cut set size: 2\n",
      "minimum cut set contains: ['Clean up', 'Finish valve chambers']\n"
     ]
    }
   ],
   "source": [
    "cut_value, partition = nx.minimum_cut(G, 'Lead time', 'Leave site',capacity = 'weight') # use minimum_cut to find minimum cut set\n",
    "reachable, non_reachable = partition                                                    # divide partition to two functions\n",
    "\n",
    "# use functino from help page to find output cutset_trial\n",
    "cutset_trial = set()\n",
    "for u, nbrs in ((n, G[n]) for n in reachable):\n",
    "    cutset_trial.update((u, v) for v in nbrs if v in non_reachable)\n",
    "\n",
    "# upon studying the output of cutset_trial, it seems that the first entry of each element of \n",
    "# sorted(cutset_trial) makes up the minium cut set of the network\n",
    "cutset = list()                # initialize cutset as a list\n",
    "for i in sorted(cutset_trial): # loop for every entry in cutset_trial (each node in the minimum cutset)\n",
    "    cutset.append(i[0])        # add value for each node in the minimum cutset\n",
    "\n",
    "# print the size of the minimum cut set and the nodes within it\n",
    "print('minimum cut set size:', len(cutset))\n",
    "print('minimum cut set contains:', cutset)"
   ]
  },
  {
   "cell_type": "markdown",
   "metadata": {},
   "source": [
    "### What would be a potential use-case for analyzing the minimum cut of an activity network?"
   ]
  },
  {
   "cell_type": "markdown",
   "metadata": {},
   "source": [
    "a potential use-case for analysizing the minimum cut of an activity network could be preventing bottlenecking that could slow down the timeline of the project"
   ]
  }
 ],
 "metadata": {
  "kernelspec": {
   "display_name": "Python 3 (ipykernel)",
   "language": "python",
   "name": "python3"
  },
  "language_info": {
   "codemirror_mode": {
    "name": "ipython",
    "version": 3
   },
   "file_extension": ".py",
   "mimetype": "text/x-python",
   "name": "python",
   "nbconvert_exporter": "python",
   "pygments_lexer": "ipython3",
   "version": "3.9.13"
  }
 },
 "nbformat": 4,
 "nbformat_minor": 4
}
