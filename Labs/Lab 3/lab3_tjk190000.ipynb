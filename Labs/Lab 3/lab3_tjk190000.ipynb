{
 "cells": [
  {
   "cell_type": "markdown",
   "metadata": {},
   "source": [
    "# Lab 3"
   ]
  },
  {
   "cell_type": "markdown",
   "metadata": {},
   "source": [
    "#### Tanner Kogel tjk190000"
   ]
  },
  {
   "cell_type": "markdown",
   "metadata": {},
   "source": [
    "##### MECH 6317.001: Dynaics of Complex Networks & Systems"
   ]
  },
  {
   "cell_type": "markdown",
   "metadata": {},
   "source": [
    "imoport all important libraries"
   ]
  },
  {
   "cell_type": "code",
   "execution_count": 2,
   "metadata": {},
   "outputs": [],
   "source": [
    "import networkx as nx\n",
    "import numpy\n",
    "import numpy.linalg as la\n",
    "import matplotlib.pyplot as plt"
   ]
  },
  {
   "cell_type": "markdown",
   "metadata": {
    "tags": []
   },
   "source": [
    "## Stub code functions"
   ]
  },
  {
   "cell_type": "markdown",
   "metadata": {},
   "source": [
    "This function prints the top five (or `num`) nodes according to the centrality vector `v`, where `v` takes the form: `v[nidx]` is the centrality of the node that is the `nidx`-th element of `G.nodes()`"
   ]
  },
  {
   "cell_type": "code",
   "execution_count": 3,
   "metadata": {},
   "outputs": [],
   "source": [
    "def print_top_5(G,v, num=5):\n",
    "    thenodes = list(G.nodes())\n",
    "    idx_list = [(i,v[i]) for i in range(len(v))]\n",
    "    idx_list = sorted(idx_list, key = lambda x: x[1], reverse=True)\n",
    "    for i in range(min(num,len(idx_list))):\n",
    "        nidx, score = idx_list[i]\n",
    "        print('  %i. %s (%1.4f)' % (i+1,thenodes[nidx],score))\n",
    "        #print '  %i. %s' % (i+1,G.node_object(idx))"
   ]
  },
  {
   "cell_type": "markdown",
   "metadata": {},
   "source": [
    "This function returns the index of the maximum of the array. If two or more indices have the same max value, the first index is returned."
   ]
  },
  {
   "cell_type": "code",
   "execution_count": 4,
   "metadata": {},
   "outputs": [],
   "source": [
    "def index_of_max(v):\n",
    "    return numpy.where(v == max(v))[0]"
   ]
  },
  {
   "cell_type": "markdown",
   "metadata": {},
   "source": [
    "This function accepts a dictionary of nodes with centrality values and returns a centrality vector"
   ]
  },
  {
   "cell_type": "code",
   "execution_count": 5,
   "metadata": {},
   "outputs": [],
   "source": [
    "def centrality_vector(G,d):\n",
    "    thenodes = list(G.nodes())\n",
    "    v = numpy.zeros((G.number_of_nodes(),))\n",
    "    for i,u in enumerate(thenodes):\n",
    "        v[i] = d[u]\n",
    "    return v"
   ]
  },
  {
   "cell_type": "markdown",
   "metadata": {},
   "source": [
    "This function provides the index of a node based on its order in `G.nodes()`"
   ]
  },
  {
   "cell_type": "code",
   "execution_count": 6,
   "metadata": {},
   "outputs": [],
   "source": [
    "def node_index(G,n):\n",
    "    thenodes = list(G.nodes())\n",
    "    return thenodes.index(n)"
   ]
  },
  {
   "cell_type": "markdown",
   "metadata": {},
   "source": [
    "Now we read in the edgelist file that contains the coappearance network we will analyze. We will look at two different networks, corresponding to only the *Lord of the Rings* series and the *Lord of the Rings* series plus the prequel, The *Hobbit*. The `unweighted` boolean, if set to `True` will set all the edge weights to one. Recall that setting all weights to 1 is different (in NetworkX) from having no weights assigned, which could be accomplished instead by: `G = nx.read_edgelist('LoTR_characters.edgelist',data=False)`."
   ]
  },
  {
   "cell_type": "code",
   "execution_count": 7,
   "metadata": {},
   "outputs": [],
   "source": [
    "unweighted = False\n",
    "#G = nx.read_weighted_edgelist('LotR_characters.edgelist') # just Lord of the Rings\n",
    "G = nx.read_weighted_edgelist('hobbit_LotR_characters.edgelist') # with the Hobbit\n",
    "if unweighted:\n",
    "    for u,v in G.edges():\n",
    "        G[u][v]['weight'] = 1\n",
    "A = nx.to_numpy_array(G)\n",
    "N = G.number_of_nodes()"
   ]
  },
  {
   "cell_type": "markdown",
   "metadata": {},
   "source": [
    "## Section 7.1: Degree Centrality"
   ]
  },
  {
   "cell_type": "markdown",
   "metadata": {},
   "source": [
    "### use the defined function from the stub code to print out top 5 characters with highest degree centrality"
   ]
  },
  {
   "cell_type": "code",
   "execution_count": 8,
   "metadata": {},
   "outputs": [
    {
     "name": "stdout",
     "output_type": "stream",
     "text": [
      "top 5 degree centrality characters\n",
      "  1. gandalf (901.0000)\n",
      "  2. frodo (661.0000)\n",
      "  3. aragorn (632.0000)\n",
      "  4. pippin (606.0000)\n",
      "  5. bilbo (602.0000)\n"
     ]
    }
   ],
   "source": [
    "d = dict.fromkeys(G.nodes(),0)              # predefine d as a dictionary for all nodes in G with degree 0\n",
    "for i in G.nodes():                         # loop over all nodes\n",
    "    idx = node_index(G,i)                   # get index for node i\n",
    "    d[i] = sum(A[idx])                      # sum all weights in row of adjacency matrix\n",
    "v = centrality_vector(G,d)                  # use function to get centrality vector\n",
    "print('top 5 degree centrality characters') # label output\n",
    "print_top_5(G,v)                            # use function to print top five characters in terms of degree centrality (including weights)"
   ]
  },
  {
   "cell_type": "markdown",
   "metadata": {},
   "source": [
    "## Section 7.2: Eigenvector Centrality"
   ]
  },
  {
   "cell_type": "markdown",
   "metadata": {},
   "source": [
    "### print out the eigenvector centrality by using the built in function eigenvector_centrality"
   ]
  },
  {
   "cell_type": "code",
   "execution_count": 9,
   "metadata": {},
   "outputs": [
    {
     "name": "stdout",
     "output_type": "stream",
     "text": [
      "Eigenvector Centrality (by NetworkX):\n",
      "  1. gandalf (0.3570)\n",
      "  2. frodo (0.2827)\n",
      "  3. aragorn (0.2783)\n",
      "  4. pippin (0.2723)\n",
      "  5. bilbo (0.2287)\n"
     ]
    }
   ],
   "source": [
    "print('Eigenvector Centrality (by NetworkX):')   # display the method via networkx\n",
    "d = nx.eigenvector_centrality(G,weight='weight') # dictionary output of networkx function\n",
    "v = centrality_vector(G,d)                       # get eigenvector centrality vector\n",
    "print_top_5(G,v)                                 # use function to output top 5 characters"
   ]
  },
  {
   "cell_type": "markdown",
   "metadata": {},
   "source": [
    "### print out the eigenvector centrality by using linear algebra"
   ]
  },
  {
   "cell_type": "code",
   "execution_count": 10,
   "metadata": {},
   "outputs": [
    {
     "name": "stdout",
     "output_type": "stream",
     "text": [
      "Eigenvector Centrality (by linear algebra):\n",
      "  1. gandalf (0.3570)\n",
      "  2. frodo (0.2827)\n",
      "  3. aragorn (0.2783)\n",
      "  4. pippin (0.2723)\n",
      "  5. bilbo (0.2287)\n"
     ]
    }
   ],
   "source": [
    "print('Eigenvector Centrality (by linear algebra):') # display the method via linear algebra\n",
    "k, v = la.eig(A)                                     # find eigenvalues k and eigenvectors v\n",
    "k1_idx = index_of_max(k)                             # find the index of the largest eigenvalue\n",
    "v_R = numpy.abs(v[:,k1_idx])                         # centrality vector of function (assumes no complex values)\n",
    "print_top_5(G,v_R)                                   # use function to output top 5 characters"
   ]
  },
  {
   "cell_type": "markdown",
   "metadata": {},
   "source": [
    "### print out both the centrality and the weighted sum of the centralities(normalized by $k_1$) of the neighbors of any character"
   ]
  },
  {
   "cell_type": "code",
   "execution_count": 11,
   "metadata": {},
   "outputs": [
    {
     "name": "stdout",
     "output_type": "stream",
     "text": [
      "Confirming that eigenvector centrality is a steady-state of sorts for node aragorn:\n",
      "Eigenvector centrality for node aragorn: 0.2783\n",
      "Sum of the centralities of neighbors of aragorn normalized by the largest eigenvalue: 0.2783\n"
     ]
    }
   ],
   "source": [
    "noi = 'aragorn'             # choose any character\n",
    "noi_idx = node_index(G,noi) # use function to find index value for given character \n",
    "# label outupt\n",
    "print('Confirming that eigenvector centrality is a steady-state of sorts for node %s:' % noi)\n",
    "\n",
    "centrality = numpy.abs(v[noi_idx,k1_idx])                                     # find eigenvector centrality from centrality vector\n",
    "print('Eigenvector centrality for node %s: %1.4f' % (noi,centrality))         # output eigenvector centrality\n",
    "centrality_sum = 0                                                            # initialize a value at 0\n",
    "noi_neighb_list = list(G.neighbors(noi))                                      # find all neighbors\n",
    "for neighb in noi_neighb_list:                                                # add each neighbor\n",
    "    neighb_idx = node_index(G,neighb)                                         # index of neighbors\n",
    "    neighb_centrality = numpy.abs(v[neighb_idx,k1_idx])                       # centrality value of neighbors\n",
    "    centrality_sum = centrality_sum + A[noi_idx,neighb_idx]*neighb_centrality # add weighted centrality of neighbors\n",
    "centrality_sum = centrality_sum / numpy.abs(max(k))                           # normalize by largest eigenvector\n",
    "# output normalized centrality sum\n",
    "print('Sum of the centralities of neighbors of %s normalized by the largest eigenvalue: %1.4f' % (noi,centrality_sum))"
   ]
  },
  {
   "cell_type": "markdown",
   "metadata": {},
   "source": [
    "The following section should run and produce a plot that you need to interpret."
   ]
  },
  {
   "cell_type": "code",
   "execution_count": 12,
   "metadata": {},
   "outputs": [
    {
     "name": "stdout",
     "output_type": "stream",
     "text": [
      "Showing the convergece of eigenvector centrality...\n"
     ]
    },
    {
     "data": {
      "image/png": "[encoded data removed]",
      "text/plain": [
       "<Figure size 640x480 with 1 Axes>"
      ]
     },
     "metadata": {},
     "output_type": "display_data"
    }
   ],
   "source": [
    "print('Showing the convergece of eigenvector centrality...')\n",
    "num_steps = 10\n",
    "x = numpy.zeros((N,1)) # initial centrality vector\n",
    "x[76] = 1\n",
    "cs = numpy.zeros((N,num_steps))\n",
    "for i in range(num_steps):\n",
    "    x = x/la.norm(x) # at each step we need to normalize the centrality vector\n",
    "    for j in range(G.number_of_nodes()):\n",
    "        cs[j,i] = numpy.real(numpy.dot( x.T , v[:,j] ))[0] # project x onto each of the eigenvectors\n",
    "    x = numpy.dot(A,x) # \"pass\" the centrality one step forward\n",
    "\n",
    "plt.figure() # this creates a figure to plot in\n",
    "for i in range(G.number_of_nodes()): # for each eigenvector plot the projection of x onto it over the steps\n",
    "    if i == k1_idx:\n",
    "        plt.plot(range(num_steps),cs[i,:],label='Projection onto v1') # only label the eigenvector v1\n",
    "    else:\n",
    "        plt.plot(range(num_steps),cs[i,:])\n",
    "#plt.ylim([-0.2,1.1]) # this sets the limits for the y axis\n",
    "plt.legend(loc='best') # this attaches a legend\n",
    "plt.title('Projection of the centrality vector x onto the eigenvectors of A') # this adds a title\n",
    "plt.show() # this makes the figure appear"
   ]
  },
  {
   "cell_type": "markdown",
   "metadata": {},
   "source": [
    "In this graph, we are seeing the evolution of the eigenvector centrality from an arbitrary starting point. The blue line that quickly approaches 1 is the eigenvector that relates to the largest eigenvalue. This eigenvector is equivalent to the centraliy vector while the other eigenvectors are ignored. The graph proves that this method is valid as the ignored eigenvectors converge to zero in steady state, and the eigenvector centrality converges to 1 in steady state."
   ]
  },
  {
   "cell_type": "markdown",
   "metadata": {},
   "source": [
    "## Section 7.3: Katz Centrality"
   ]
  },
  {
   "cell_type": "markdown",
   "metadata": {},
   "source": [
    "### print the top 5 central characters in terms of Katz centrality for varying values of $\\alpha$ using linear algebra"
   ]
  },
  {
   "cell_type": "code",
   "execution_count": 313,
   "metadata": {},
   "outputs": [
    {
     "name": "stdout",
     "output_type": "stream",
     "text": [
      "Katz Centrality:\n",
      "Top 5 central characters using Katz centrality (alpha = 0.0032):\n",
      "  1. gandalf (3506233965768915.0000)\n",
      "  2. frodo (2776134896343451.5000)\n",
      "  3. aragorn (2733443552956267.5000)\n",
      "  4. pippin (2674606740861643.0000)\n",
      "  5. bilbo (2246654230718593.0000)\n",
      "Top 5 central characters using Katz centrality (alpha = 0.0031):\n",
      "  1. gandalf (85.9849)\n",
      "  2. frodo (68.0973)\n",
      "  3. aragorn (66.9911)\n",
      "  4. pippin (65.5381)\n",
      "  5. bilbo (55.6171)\n",
      "Top 5 central characters using Katz centrality (alpha = 0.0016):\n",
      "  1. gandalf (3.8101)\n",
      "  2. frodo (3.1354)\n",
      "  3. aragorn (3.0695)\n",
      "  4. pippin (3.0064)\n",
      "  5. bilbo (2.8592)\n",
      "Top 5 central characters using Katz centrality (alpha = 0.0011):\n",
      "  1. gandalf (2.4204)\n",
      "  2. frodo (2.0663)\n",
      "  3. aragorn (2.0286)\n",
      "  4. pippin (1.9938)\n",
      "  5. bilbo (1.9446)\n",
      "Top 5 central characters using Katz centrality (alpha = 0.0008):\n",
      "  1. gandalf (1.9521)\n",
      "  2. frodo (1.7105)\n",
      "  3. aragorn (1.6839)\n",
      "  4. pippin (1.6595)\n",
      "  5. bilbo (1.6343)\n"
     ]
    }
   ],
   "source": [
    "print('Katz Centrality:')                                                               # label section\n",
    "inv_max_eig = 1/max(numpy.abs(k))                                                       # inverse of largest eigenvalue\n",
    "alpha_list = [inv_max_eig,inv_max_eig-0.0001,inv_max_eig/2,inv_max_eig/3,inv_max_eig/4] # various alpha values\n",
    "for alpha in alpha_list:                                                                # repeat for each alpha value\n",
    "    v = numpy.dot( la.inv(numpy.eye(N) - alpha*A) , numpy.ones((N,1)) )                 # linear algebraic equation for centrality vector\n",
    "    print('Top 5 central characters using Katz centrality (alpha = %1.4f):' % alpha)    # label output with alpha value\n",
    "    print_top_5(G,v)                                                                    # output top characters"
   ]
  },
  {
   "cell_type": "markdown",
   "metadata": {},
   "source": [
    "## Section 7.4: PageRank"
   ]
  },
  {
   "cell_type": "markdown",
   "metadata": {},
   "source": [
    "### print the top 5 central characters in terms of PageRank using linear algebra"
   ]
  },
  {
   "cell_type": "code",
   "execution_count": 314,
   "metadata": {},
   "outputs": [
    {
     "name": "stdout",
     "output_type": "stream",
     "text": [
      "PageRank\n",
      "  1. gandalf (160.2037)\n",
      "  2. frodo (118.7663)\n",
      "  3. aragorn (111.7720)\n",
      "  4. pippin (108.4245)\n",
      "  5. bilbo (107.6881)\n"
     ]
    }
   ],
   "source": [
    "print('PageRank')             # label section\n",
    "D = numpy.zeros((N,N))        # create fully zero matrix of size NxN\n",
    "for i in G.nodes():           # loop to find nodes that have zero out-degree\n",
    "    idx = node_index(G,i)     # find index value of node\n",
    "    k_out = sum(A[:,idx])     # calculate out-degree of the node\n",
    "    D[idx,idx] = max(k_out,1) # definition of D\n",
    "alpha = 0.95                  # guess below 1\n",
    "v = numpy.dot( la.inv( numpy.eye(N) - alpha*numpy.dot(A,la.inv(D)) ) , numpy.ones((N,1)) ) # calculate PageRank centrality vector\n",
    "print_top_5(G,v) # output top characters"
   ]
  },
  {
   "cell_type": "markdown",
   "metadata": {},
   "source": [
    "The proof that $v_1 = (k_1,k_2,...,k_n)$ where $k_i$ is the degree of node $i$, is an eigenvector of $AD^{-1}$ is shown in the lab3_tjk19000.pdf file submitted with this lab"
   ]
  },
  {
   "cell_type": "markdown",
   "metadata": {},
   "source": [
    "## Section 7.5: Hubs & Authorites"
   ]
  },
  {
   "cell_type": "markdown",
   "metadata": {},
   "source": [
    "the expression of hub eigenvectors in terms of the authorities eigenvectors is shown in the lab3_tjk190000.odf file submitted with this lab"
   ]
  },
  {
   "cell_type": "markdown",
   "metadata": {},
   "source": [
    "## Section 7.7: Betweenness Centrality"
   ]
  },
  {
   "cell_type": "markdown",
   "metadata": {},
   "source": [
    "### Using the networkx function for betweenness centrality print the top 5 characters with the highest betweenness centrality"
   ]
  },
  {
   "cell_type": "code",
   "execution_count": 315,
   "metadata": {},
   "outputs": [
    {
     "name": "stdout",
     "output_type": "stream",
     "text": [
      "Betweenness Centrality\n",
      "  1. gandalf (0.0498)\n",
      "  2. pippin (0.0370)\n",
      "  3. aragorn (0.0339)\n",
      "  4. frodo (0.0296)\n",
      "  5. bilbo (0.0292)\n"
     ]
    }
   ],
   "source": [
    "print('Betweenness Centrality')                  # label section\n",
    "d = nx.betweenness_centrality(G,weight='weight') # use function to recieve dictionary\n",
    "v = centrality_vector(G,d)                       # find betweenness centrality vector from dictionary\n",
    "print_top_5(G,v)                                 # output top characters"
   ]
  }
 ],
 "metadata": {
  "kernelspec": {
   "display_name": "Python 3 (ipykernel)",
   "language": "python",
   "name": "python3"
  },
  "language_info": {
   "codemirror_mode": {
    "name": "ipython",
    "version": 3
   },
   "file_extension": ".py",
   "mimetype": "text/x-python",
   "name": "python",
   "nbconvert_exporter": "python",
   "pygments_lexer": "ipython3",
   "version": "3.9.13"
  }
 },
 "nbformat": 4,
 "nbformat_minor": 4
}
