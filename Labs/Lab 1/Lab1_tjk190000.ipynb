{
 "cells": [
  {
   "cell_type": "markdown",
   "id": "66020918-128a-4987-a3d5-d8293c28ba03",
   "metadata": {},
   "source": [
    "Lab 1"
   ]
  },
  {
   "cell_type": "markdown",
   "id": "420fc4f7-ce27-4e7a-b0e5-f50e618b8fbf",
   "metadata": {},
   "source": [
    "MECH 6317.001: Dynamics of Complex Networks and Systems"
   ]
  },
  {
   "cell_type": "markdown",
   "id": "e98220e7-f8dc-4f1b-bb04-f45cf33874e0",
   "metadata": {},
   "source": [
    "Tanner Kogel tjk190000"
   ]
  },
  {
   "cell_type": "markdown",
   "id": "b456efb2-543a-4385-9e28-2b21adda9883",
   "metadata": {},
   "source": [
    "bring networkx library into code as nx to use "
   ]
  },
  {
   "cell_type": "markdown",
   "id": "b1e07b21-f284-440c-8a86-97f3896e2b7f",
   "metadata": {},
   "source": [
    "bring all other libraries needed into code"
   ]
  },
  {
   "cell_type": "code",
   "execution_count": 2,
   "id": "62bf6de3-09b7-4e3e-80d0-e1920d1a51ad",
   "metadata": {
    "tags": []
   },
   "outputs": [],
   "source": [
    "import networkx as nx\n",
    "import numpy\n",
    "import itertools"
   ]
  },
  {
   "cell_type": "markdown",
   "id": "0da6fa02-a406-44b5-acde-2441c417a4d3",
   "metadata": {},
   "source": [
    "create the graph G that models the network shown in figure 6.1a"
   ]
  },
  {
   "cell_type": "code",
   "execution_count": 3,
   "id": "899b583c-5e7d-4bfa-957c-8db4fe503873",
   "metadata": {},
   "outputs": [],
   "source": [
    "G = nx.Graph() # initialize G as a graph\n",
    "\n",
    "G.add_nodes_from(range(1,7)) # create nodes 1,2,...,6 in order\n",
    "\n",
    "# add all edges shown in figure 6.1a\n",
    "G.add_edge(1,2)\n",
    "G.add_edge(1,5)\n",
    "G.add_edge(2,3)\n",
    "G.add_edge(2,4)\n",
    "G.add_edge(3,4)\n",
    "G.add_edge(3,5)\n",
    "G.add_edge(3,6)"
   ]
  },
  {
   "cell_type": "markdown",
   "id": "a1665cf9-220f-4012-9bca-a5c3d70426c4",
   "metadata": {},
   "source": [
    "print proof that G is correctly defined:\n",
    "number of nodes, number of edges\n",
    "3-4 edge exists\n",
    "4-6 edge does not exist"
   ]
  },
  {
   "cell_type": "code",
   "execution_count": 4,
   "id": "5432a148-cd15-4726-877a-eebb6625ed73",
   "metadata": {},
   "outputs": [
    {
     "name": "stdout",
     "output_type": "stream",
     "text": [
      "#Nodes: 6, #Edges: 7\n",
      "Has 3-4 edge: True\n",
      "Has 4-6 edge: False\n"
     ]
    }
   ],
   "source": [
    "print('#Nodes: %i, #Edges: %i' % (G.number_of_nodes(),G.number_of_edges())) # quantity of nodes & edges\n",
    "print('Has 3-4 edge: %s' % G.has_edge(3,4))                                 # 3-4 edge exists?\n",
    "print('Has 4-6 edge: %s' % G.has_edge(4,6))                                 # 4-6 edge exists?"
   ]
  },
  {
   "cell_type": "markdown",
   "id": "179d5ef9-c2c1-46ef-85d1-9328d28add06",
   "metadata": {},
   "source": [
    "print out the corresponding adjacency matrix"
   ]
  },
  {
   "cell_type": "code",
   "execution_count": 5,
   "id": "01c7e177-4492-4d68-8aca-d25505bf7808",
   "metadata": {},
   "outputs": [
    {
     "name": "stdout",
     "output_type": "stream",
     "text": [
      "[[0. 1. 0. 0. 1. 0.]\n",
      " [1. 0. 1. 1. 0. 0.]\n",
      " [0. 1. 0. 1. 1. 1.]\n",
      " [0. 1. 1. 0. 0. 0.]\n",
      " [1. 0. 1. 0. 0. 0.]\n",
      " [0. 0. 1. 0. 0. 0.]]\n"
     ]
    }
   ],
   "source": [
    "A = nx.to_numpy_array(G)\n",
    "print(A)"
   ]
  },
  {
   "cell_type": "markdown",
   "id": "1bbd9a3f-3ed2-44db-9cdd-4a0ad929fbe8",
   "metadata": {},
   "source": [
    "ensure that adjacency matrix is symetric (A=A.T)"
   ]
  },
  {
   "cell_type": "code",
   "execution_count": 6,
   "id": "13314259-f377-4a02-aba8-01641403c3bc",
   "metadata": {},
   "outputs": [
    {
     "name": "stdout",
     "output_type": "stream",
     "text": [
      "Adjacency matrix symmetry: True\n"
     ]
    }
   ],
   "source": [
    "print('Adjacency matrix symmetry: %s' % (A==A.T).all())"
   ]
  },
  {
   "cell_type": "markdown",
   "id": "e0d9dd03-529e-48d7-9043-4808c0886dbd",
   "metadata": {},
   "source": [
    "Section 6.3: Weighted Networks"
   ]
  },
  {
   "cell_type": "markdown",
   "id": "76eaeb89-fc26-4f1f-b4da-4794e7073923",
   "metadata": {},
   "source": [
    "create the weighted network shown in figure 6.1b"
   ]
  },
  {
   "cell_type": "code",
   "execution_count": 7,
   "id": "8ecf1227-da8b-4ec7-b44d-5a7b799b6f8e",
   "metadata": {},
   "outputs": [],
   "source": [
    "G_b = nx.Graph() # initialize G_b as a graph\n",
    "\n",
    "G_b.add_nodes_from(range(1,7)) # add nodes 1,2,...,6 in order\n",
    "\n",
    "# add all edges shown in figure 6.1b\n",
    "G_b.add_edge(1,2)\n",
    "G_b.add_edge(1,5,weight=3)\n",
    "G_b.add_edge(2,2)\n",
    "G_b.add_edge(2,3,weight=2)\n",
    "G_b.add_edge(2,4)\n",
    "G_b.add_edge(3,4)\n",
    "G_b.add_edge(3,5)\n",
    "G_b.add_edge(3,6)\n",
    "G_b.add_edge(6,6)\n",
    "\n",
    "# correct self-edges to weight 2\n",
    "G_b[2][2]['weight'] = 2\n",
    "G_b[6][6]['weight'] = 2"
   ]
  },
  {
   "cell_type": "markdown",
   "id": "8977836a-a178-45ef-97d3-3c2e850e8f09",
   "metadata": {},
   "source": [
    "print adjacency matrix of the weighted network"
   ]
  },
  {
   "cell_type": "code",
   "execution_count": 8,
   "id": "a573a24d-0619-4971-8d94-3435d7c7ea56",
   "metadata": {},
   "outputs": [
    {
     "name": "stdout",
     "output_type": "stream",
     "text": [
      "[[0. 1. 0. 0. 3. 0.]\n",
      " [1. 2. 2. 1. 0. 0.]\n",
      " [0. 2. 0. 1. 1. 1.]\n",
      " [0. 1. 1. 0. 0. 0.]\n",
      " [3. 0. 1. 0. 0. 0.]\n",
      " [0. 0. 1. 0. 0. 2.]]\n"
     ]
    }
   ],
   "source": [
    "A_b = nx.to_numpy_array(G_b)\n",
    "print(A_b)"
   ]
  },
  {
   "cell_type": "markdown",
   "id": "d7fa15d9-9321-47f4-8604-006ba3232d99",
   "metadata": {},
   "source": [
    "Section 6.4: Directed Networks"
   ]
  },
  {
   "cell_type": "markdown",
   "id": "6ddbf19e-a30b-49a7-9e9f-4e8791fa47ae",
   "metadata": {},
   "source": [
    "create the directed network shown in figure 6.2"
   ]
  },
  {
   "cell_type": "code",
   "execution_count": 9,
   "id": "f278e880-3f9c-428c-9ffc-f16778cd1e9c",
   "metadata": {},
   "outputs": [],
   "source": [
    "G_d = nx.DiGraph() # initialize G_d as a directed graph\n",
    "\n",
    "G_d.add_nodes_from(range(1,7)) # add nodes 1,2,...,6 in order\n",
    "\n",
    "# add all directed edges shown in figure 6.2\n",
    "G_d.add_edge(1,3)\n",
    "G_d.add_edge(2,6)\n",
    "G_d.add_edge(3,2)\n",
    "G_d.add_edge(4,1)\n",
    "G_d.add_edge(4,5)\n",
    "G_d.add_edge(5,3)\n",
    "G_d.add_edge(6,4)\n",
    "G_d.add_edge(6,5)"
   ]
  },
  {
   "cell_type": "markdown",
   "id": "39851f90-4c81-41fd-82c8-f88fb3ac5e99",
   "metadata": {},
   "source": [
    "print adjacency  matrix of the directed network"
   ]
  },
  {
   "cell_type": "code",
   "execution_count": 10,
   "id": "42e9c8dc-d351-4ad5-9702-50ee8f47b16e",
   "metadata": {},
   "outputs": [
    {
     "name": "stdout",
     "output_type": "stream",
     "text": [
      "[[0. 0. 1. 0. 0. 0.]\n",
      " [0. 0. 0. 0. 0. 1.]\n",
      " [0. 1. 0. 0. 0. 0.]\n",
      " [1. 0. 0. 0. 1. 0.]\n",
      " [0. 0. 1. 0. 0. 0.]\n",
      " [0. 0. 0. 1. 1. 0.]]\n"
     ]
    }
   ],
   "source": [
    "A_d = nx.to_numpy_array(G_d)\n",
    "print(A_d)"
   ]
  },
  {
   "cell_type": "markdown",
   "id": "52fcee40-37fa-4e1b-9596-75d04e01702a",
   "metadata": {},
   "source": [
    "the adjacency matrix shown above is the transpose of the adjacency matrix shown in the textbook"
   ]
  },
  {
   "cell_type": "markdown",
   "id": "29a0ae5d-2e15-4c23-aabc-dba412a430f6",
   "metadata": {},
   "source": [
    "ensure that the adjacency matrix is in the format of the textbook by taking the transpose"
   ]
  },
  {
   "cell_type": "code",
   "execution_count": 11,
   "id": "dc5ffbb6-f0d3-4b1b-9814-8d6809c03a83",
   "metadata": {},
   "outputs": [
    {
     "name": "stdout",
     "output_type": "stream",
     "text": [
      "[[0. 0. 0. 1. 0. 0.]\n",
      " [0. 0. 1. 0. 0. 0.]\n",
      " [1. 0. 0. 0. 1. 0.]\n",
      " [0. 0. 0. 0. 0. 1.]\n",
      " [0. 0. 0. 1. 0. 1.]\n",
      " [0. 1. 0. 0. 0. 0.]]\n"
     ]
    }
   ],
   "source": [
    "A_d = A_d.T\n",
    "print(A_d)"
   ]
  },
  {
   "cell_type": "markdown",
   "id": "5136549f-8648-4fa0-912e-228d809dd551",
   "metadata": {},
   "source": [
    "Section 6.4.1: Cocitation & Bibliographic Coupling"
   ]
  },
  {
   "cell_type": "markdown",
   "id": "77c29d46-a0f9-436a-957e-d71e22dd33f5",
   "metadata": {},
   "source": [
    "create a function to transform a directed network into a cocitation network"
   ]
  },
  {
   "cell_type": "code",
   "execution_count": 12,
   "id": "dbccf961-06f6-415c-872f-a320c04da76f",
   "metadata": {},
   "outputs": [],
   "source": [
    "def cocitation(G):\n",
    "    \n",
    "    G_cocitation = nx.Graph()              # initialize cocitation graph\n",
    "    G_cocitation.add_nodes_from(G.nodes()) # ensure all nodes match\n",
    "    \n",
    "    for u,v in itertools.combinations(G.nodes(),2):  # loop for every combination of nodes\n",
    "        w = 0                                        # reset weight to be zero\n",
    "        for i in G.predecessors(u):                  # loop for each predecessor in node u\n",
    "            for j in G.predecessors(v):              # loop for each predecessor in node v\n",
    "                if i == j:                           # cocitation exists\n",
    "                    if 'weight' in G[i][u]:          # additional weight in u edge exists\n",
    "                        u_weight = G[i][u]['weight'] # add appropriate weight to u edge\n",
    "                    else:                            # weight of 1 in u exists\n",
    "                        u_weight = 1                 # assign weight of 1 to u edge\n",
    "                    if 'weight' in G[i][v]:          # additional weight in v exists\n",
    "                        v_weight = G[i][v]['weight'] # add appropriate weight to v edge\n",
    "                    else:                            # weight of 1 in v exists\n",
    "                        v_weight = 1                 # assign weight of 1 to v edge\n",
    "                    w = w + (u_weight*v_weight)      # add weight\n",
    "        if w > 0:                                    # edge exists\n",
    "            G_cocitation.add_edge(u,v,weight=w)      # create edge with appropriate weight\n",
    "    \n",
    "    return G_cocitation # return cocitation graph"
   ]
  },
  {
   "cell_type": "markdown",
   "id": "e000be69-da70-4871-9499-78f26b5a5c7d",
   "metadata": {},
   "source": [
    "load ProofWiki network"
   ]
  },
  {
   "cell_type": "code",
   "execution_count": 13,
   "id": "d112fa1c-973f-4d12-a6d3-5ba4566c159b",
   "metadata": {},
   "outputs": [],
   "source": [
    "G_pw = nx.read_gml('proofwikidefs_la.gml','name')"
   ]
  },
  {
   "cell_type": "markdown",
   "id": "842894d5-731a-439b-873b-7ec19de77767",
   "metadata": {},
   "source": [
    "create cocitation graph of ProofWiki network"
   ]
  },
  {
   "cell_type": "code",
   "execution_count": 14,
   "id": "3c51b2c7-3750-41f8-96e2-65b7a71815d4",
   "metadata": {},
   "outputs": [
    {
     "name": "stdout",
     "output_type": "stream",
     "text": [
      "Difference between cocitation methods: 0\n"
     ]
    }
   ],
   "source": [
    "A = nx.to_numpy_array(G_pw).T # create adjacency matrix of proofwiki network in textbook format\n",
    "C1 = numpy.dot(A,A.T)         # use linear algebra definition to create cocitation matrix\n",
    "# loop added to ensure that the diagonal values are set to 0\n",
    "for i in range(len(G_pw.nodes())):\n",
    "    for j in range(len(G_pw.nodes())):\n",
    "        C1[i,i] = 0\n",
    "Gc = cocitation(G_pw)                                                  # use cocitation algorithm to create an undirected network based on the proofwiki directed network\n",
    "C2 = nx.to_numpy_array(Gc).T                                           # compute the adjacency matrix for the undirected graph (cocitation matrix of G_pw)\n",
    "Cdiff = C1-C2                                                          # compare two cocitation matrices\n",
    "print('Difference between cocitation methods: %i' % Cdiff.sum().sum()) # print quantity of differencs between function and linear algebra cocitation matrices"
   ]
  },
  {
   "cell_type": "markdown",
   "id": "9daafef5-f264-44b2-bbbb-bdd2286346b1",
   "metadata": {},
   "source": [
    "print out neighbors of the node \"Linear Combination\" in the cocitation network with edge weights"
   ]
  },
  {
   "cell_type": "code",
   "execution_count": 15,
   "id": "97f13cf4-d5b1-4587-8548-73dc07bfd926",
   "metadata": {},
   "outputs": [
    {
     "name": "stdout",
     "output_type": "stream",
     "text": [
      "{'Vector (Euclidean Space)': {'weight': 10.0}, 'Set of All Linear Transformations': {'weight': 1.0}, 'Ordered Basis': {'weight': 3.0}, 'Linearly Independent/Sequence/Real Vector Space': {'weight': 4.0}, 'Linearly Dependent/Sequence/Real Vector Space': {'weight': 6.0}, 'Linear Span': {'weight': 6.0}, 'Linear Combination of Subset': {'weight': 10.0}, 'Linear Combination of Sequence': {'weight': 8.0}, 'Linear Combination of Empty Set': {'weight': 6.0}, 'Matrix': {'weight': 1.0}, 'Basis (Linear Algebra)': {'weight': 2.0}, 'Matrix Product (Conventional)': {'weight': 1.0}, 'Module': {'weight': 8.0}, 'Linearly Independent/Set/Real Vector Space': {'weight': 1.0}, 'Linearly Dependent/Set/Real Vector Space': {'weight': 2.0}, 'Linearly Independent/Set': {'weight': 1.0}, 'Linearly Independent/Sequence': {'weight': 1.0}, 'Linearly Independent Set': {'weight': 6.0}, 'Linearly Independent Sequence': {'weight': 10.0}, 'Linearly Independent': {'weight': 2.0}, 'Linearly Dependent/Set': {'weight': 2.0}, 'Linearly Dependent/Sequence': {'weight': 2.0}, 'Linearly Dependent Set': {'weight': 2.0}, 'Linearly Dependent Sequence': {'weight': 8.0}, 'Linearly Dependent': {'weight': 1.0}, 'Zero Vector': {'weight': 10.0}, 'Zero Scalar': {'weight': 3.0}, 'Unitary Module': {'weight': 9.0}, 'Vector Space': {'weight': 3.0}, 'Linear Transformation': {'weight': 7.0}, 'Vector Subspace': {'weight': 1.0}, 'Vector (Linear Algebra)': {'weight': 3.0}}\n"
     ]
    }
   ],
   "source": [
    "print(Gc['Linear Combination'])"
   ]
  },
  {
   "cell_type": "markdown",
   "id": "7f712d2c-e67a-49f9-9132-b1dc5b180f81",
   "metadata": {},
   "source": [
    "This means that for each neighbor with edge weight \"n\" printed on the above list, There exists \"n\" ProofWiki entries that site \"Linear Combination\" as well as that neighbor."
   ]
  },
  {
   "cell_type": "markdown",
   "id": "24f6b791-3311-40ea-b078-d719e3fea182",
   "metadata": {},
   "source": [
    "print the the neighbors of \"Linear Combination\" from the original graph and compare"
   ]
  },
  {
   "cell_type": "code",
   "execution_count": 16,
   "id": "f1137f39-95d0-4685-bb57-ca0316d2f6f7",
   "metadata": {},
   "outputs": [
    {
     "name": "stdout",
     "output_type": "stream",
     "text": [
      "{'Linear Transformation': {'weight': 1.0}, 'Linear Span': {'weight': 1.0}, 'Linear Combination of Subset': {'weight': 1.0}, 'Linear Combination/Empty Set': {'weight': 1.0}, 'Linear Combination of Sequence': {'weight': 1.0}, 'Linear Combination/Subset': {'weight': 1.0}, 'Module': {'weight': 3.0}, 'Linear Combination/Sequence': {'weight': 1.0}}\n"
     ]
    }
   ],
   "source": [
    "print(G_pw['Linear Combination'])"
   ]
  },
  {
   "cell_type": "markdown",
   "id": "5fc9e0a9-7c29-4520-b96d-3b74d58f2494",
   "metadata": {},
   "source": [
    "create a new function to produce the bibliographic coupling network of the ProofWiki graph"
   ]
  },
  {
   "cell_type": "code",
   "execution_count": 17,
   "id": "92be3824-a873-4228-b459-3acdab4c5392",
   "metadata": {},
   "outputs": [],
   "source": [
    "def bibliographic_coupling(G):\n",
    "    \n",
    "    G_Bcoupling = nx.Graph()              # initialize cocitation graph\n",
    "    G_Bcoupling.add_nodes_from(G.nodes()) # ensure all nodes match\n",
    "    \n",
    "    for u,v in itertools.combinations(G.nodes(),2):  # loop for every combination of nodes\n",
    "        w = 0                                        # reset weight to be zero\n",
    "        for i in G.successors(u):                    # loop for each successor in node u\n",
    "            for j in G.successors(v):                # loop for each successor in node v\n",
    "                if i == j:                           # bibliographic coupling exists\n",
    "                    if 'weight' in G[u][i]:          # additional weight in u edge exists\n",
    "                        u_weight = G[u][i]['weight'] # add appropriate weight to u edge\n",
    "                    else:                            # weight of 1 in u exists\n",
    "                        u_weight = 1                 # assign weight of 1 to u edge\n",
    "                    if 'weight' in G[v][i]:          # additional weight in v exists\n",
    "                        v_weight = G[v][i]['weight'] # add appropriate weight to v edge\n",
    "                    else:                            # weight of 1 in v exists\n",
    "                        v_weight = 1                 # assign weight of 1 to v edge\n",
    "                    w = w + (u_weight*v_weight)      # add weight\n",
    "        if w > 0:                                    # edge exists\n",
    "            G_Bcoupling.add_edge(u,v,weight=w)       # create edge with appropriate weight\n",
    "    \n",
    "    return G_Bcoupling # return bibliographical coupled graph"
   ]
  },
  {
   "cell_type": "markdown",
   "id": "e4de7ebc-678a-4269-8a2c-5203ad36d1d5",
   "metadata": {},
   "source": [
    "test bibliographic coupling method"
   ]
  },
  {
   "cell_type": "code",
   "execution_count": 18,
   "id": "4eaf67a1-7ec0-4b48-80c8-c2009e8eb5ec",
   "metadata": {},
   "outputs": [
    {
     "name": "stdout",
     "output_type": "stream",
     "text": [
      "Difference between bibliographic couling methods: 0\n"
     ]
    }
   ],
   "source": [
    "A = nx.to_numpy_array(G_pw).T # create adjacency matrix of proofwiki network in textbook format\n",
    "B1 = numpy.dot(A.T,A)         # use linear algebra definition to create bibliographic coupling matrix\n",
    "# loop added to ensure that the diagonal values are set to 0\n",
    "for i in range(len(G_pw.nodes())):\n",
    "    for j in range(len(G_pw.nodes())):\n",
    "        B1[i,i] = 0\n",
    "Gbc = bibliographic_coupling(G_pw)                                                # use bibliographic coupling algorithm to create an undirected network based on the proofwiki directed network\n",
    "B2 = nx.to_numpy_array(Gbc).T                                                     # compute the adjacency matrix for the undirected graph (bibliographic coupling matrix of G_pw)\n",
    "Bdiff = B1-B2                                                                     # compare two bibliographic coupling matrices\n",
    "print('Difference between bibliographic couling methods: %i' % Bdiff.sum().sum()) # print quantity of differencs between function and linear algebra bibliographic coupling matrices"
   ]
  },
  {
   "cell_type": "markdown",
   "id": "f6660a5f-03b4-4b08-8c0a-5dc5797cc964",
   "metadata": {},
   "source": [
    "Concept Question:"
   ]
  },
  {
   "cell_type": "markdown",
   "id": "d0aa9770-7ff7-4566-86d4-d1aed4e6a54d",
   "metadata": {},
   "source": [
    "What is the original directed network and corresponding bibliographic coupling matrix for the network which has cocitation matrix:"
   ]
  },
  {
   "cell_type": "code",
   "execution_count": 19,
   "id": "2b4ae543-5999-4468-ab9e-b2be0be29253",
   "metadata": {},
   "outputs": [],
   "source": [
    "C = [[0,4,4,4,4,4],\n",
    "     [4,0,4,4,4,4],\n",
    "     [4,4,0,4,4,4],\n",
    "     [4,4,4,0,4,4],\n",
    "     [4,4,4,4,0,4],\n",
    "     [4,4,4,4,4,0]]"
   ]
  },
  {
   "cell_type": "markdown",
   "id": "6989c27e-014d-4fc9-9122-5115f425a61b",
   "metadata": {},
   "source": [
    "the following code block creates a system G that satisfies and proves this criteria"
   ]
  },
  {
   "cell_type": "code",
   "execution_count": 20,
   "id": "6cd35973-1e51-4f78-b069-1d7b823f448e",
   "metadata": {},
   "outputs": [
    {
     "name": "stdout",
     "output_type": "stream",
     "text": [
      "G is a directed system that has cocitation matrix C: True\n"
     ]
    }
   ],
   "source": [
    "G = nx.DiGraph() # initialize G as a directed graph\n",
    "\n",
    "G.add_nodes_from(range(1,7)) # add nodes 1,2,...6 in order\n",
    "\n",
    "# create a network where every node points to every node that is not itself\n",
    "for i in range(1,7):\n",
    "    for j in range(1,7):\n",
    "        if i == j:\n",
    "            continue\n",
    "        G.add_edge(i,j)\n",
    "\n",
    "# create a cocitation network based on the graph G\n",
    "G_c = cocitation(G)\n",
    "C_test = nx.to_numpy_array(G_c).T\n",
    "\n",
    "print('G is a directed system that has cocitation matrix C: %s' % (C==C_test).all()) # output result of test"
   ]
  },
  {
   "cell_type": "markdown",
   "id": "3fb438b0-5440-4cb6-a007-db46bfed56c1",
   "metadata": {},
   "source": [
    "What is the corresponding bibliographic coupling matrix for this network"
   ]
  },
  {
   "cell_type": "code",
   "execution_count": 21,
   "id": "b1fd1dfe-883a-45a0-8430-5f59b7dd8048",
   "metadata": {},
   "outputs": [
    {
     "name": "stdout",
     "output_type": "stream",
     "text": [
      "[[0. 4. 4. 4. 4. 4.]\n",
      " [4. 0. 4. 4. 4. 4.]\n",
      " [4. 4. 0. 4. 4. 4.]\n",
      " [4. 4. 4. 0. 4. 4.]\n",
      " [4. 4. 4. 4. 0. 4.]\n",
      " [4. 4. 4. 4. 4. 0.]]\n"
     ]
    }
   ],
   "source": [
    "G_bc = bibliographic_coupling(G)\n",
    "B = nx.to_numpy_array(G_bc).T\n",
    "print(B)"
   ]
  },
  {
   "cell_type": "markdown",
   "id": "7f95304b-0ba8-4235-befc-efcefd334e72",
   "metadata": {},
   "source": [
    "Concept Question:"
   ]
  },
  {
   "cell_type": "markdown",
   "id": "f3dbb962-0056-415d-8e0f-97af80f75178",
   "metadata": {},
   "source": [
    "Is it possible that two different (potentially weighted) original graphs G1 and G2 have the same cocitation and same bibliographic coupling graphs (e.g., C1=C2 and B1=B2)? If so, give an example."
   ]
  },
  {
   "cell_type": "markdown",
   "id": "c78663d4-cc16-4e44-a094-2229e4eb83a4",
   "metadata": {},
   "source": [
    "The following code block creates two networks that have identical cocitation matrices and bibliographic matrices"
   ]
  },
  {
   "cell_type": "code",
   "execution_count": 22,
   "id": "9cd70682-8d76-45dd-9b3c-19a389653aa4",
   "metadata": {},
   "outputs": [
    {
     "name": "stdout",
     "output_type": "stream",
     "text": [
      "G1 and G2 are the same network: False\n",
      "G1 and G2 have identical cocitation matrices: True\n",
      "G1 and G2 have identical bibliographic coupling matrices: True\n"
     ]
    }
   ],
   "source": [
    "# initialize two directed graphs\n",
    "G1 = nx.DiGraph()\n",
    "G2 = nx.DiGraph()\n",
    "\n",
    "# add nodes 1,2,...,6 in order to both graphs\n",
    "G1.add_nodes_from(range(1,7))\n",
    "G2.add_nodes_from(range(1,7))\n",
    "\n",
    "# G1: each node points to the node in front of it (+1)\n",
    "# G2: each node points to the node behind it (-1)\n",
    "for i in range(1,7):\n",
    "    for j in range(1,7):\n",
    "        if i+1 == j:\n",
    "            G1.add_edge(i,j)\n",
    "            G2.add_edge(j,i)\n",
    "        elif i+5 == j:\n",
    "            G1.add_edge(j,i)\n",
    "            G2.add_edge(i,j)\n",
    "\n",
    "# compute adjacency matrix for each graph\n",
    "A1 = nx.to_numpy_array(G1)\n",
    "A2 = nx.to_numpy_array(G2)\n",
    "\n",
    "print('G1 and G2 are the same network: %s' % (A1==A2).all()) # print equivalency of adjacency matrices\n",
    "\n",
    "# create cocitation and bibliographic coupling networks based on the original graphs G1 & G2\n",
    "G_1c = cocitation(G1)\n",
    "C1 = nx.to_numpy_array(G_1c)\n",
    "G_2c = cocitation(G2)\n",
    "C2 = nx.to_numpy_array(G_2c)\n",
    "G_1b = bibliographic_coupling(G1)\n",
    "B1 = nx.to_numpy_array(G_1b)\n",
    "G_2b = bibliographic_coupling(G2)\n",
    "B2 = nx.to_numpy_array(G_2b)\n",
    "\n",
    "print('G1 and G2 have identical cocitation matrices: %s' % (C1==C2).all())             # print equivalency of cocitation matrices\n",
    "print('G1 and G2 have identical bibliographic coupling matrices: %s' % (B1==B2).all()) # print equivalency of bibliographic coupling matrices"
   ]
  },
  {
   "cell_type": "markdown",
   "id": "8ab9ad10-d1a0-47da-a5ab-9ea603c6b02f",
   "metadata": {},
   "source": [
    "Section 6.4.2: Acyclic Networks"
   ]
  },
  {
   "cell_type": "markdown",
   "id": "58cd44f7-ab59-437f-be88-58e28dc48a64",
   "metadata": {},
   "source": [
    "create a function that determines if a network is acyclic"
   ]
  },
  {
   "cell_type": "code",
   "execution_count": 23,
   "id": "32ff8880-25f5-4147-a3ca-21e5e253c5fe",
   "metadata": {},
   "outputs": [],
   "source": [
    "def is_acyclic(G):\n",
    "    \n",
    "    has_removed_node = False # initialize false value\n",
    "    \n",
    "    while G.number_of_nodes() > 1:              # stop loop if all nodes have been removed\n",
    "        if has_removed_node:                    # node was removed in previous loop\n",
    "            G.remove_node(node_r)               # remove node without a successor\n",
    "        has_removed_node = False                # reset node removed for this loop\n",
    "        for i in G.nodes():                     # test every node in network\n",
    "            if len(list(G.successors(i))) == 0: # find node without a successor\n",
    "                node_r = i                      # get name of node without successsor\n",
    "                has_removed_node = True         # node has been removed in this for loop\n",
    "                break                           # move to the next line of code\n",
    "        if has_removed_node:                    # ensure node has been removed\n",
    "            continue                            # go to begining of while loop\n",
    "        else:                                   # node has not been removed\n",
    "            return False                        # system is not acyclic\n",
    "        \n",
    "    return True # system is acyclic\n",
    "                    "
   ]
  },
  {
   "cell_type": "markdown",
   "id": "d92a1cb9-d817-4693-bd31-baac38564aed",
   "metadata": {},
   "source": [
    "test if given networks are cyclic or acyclic"
   ]
  },
  {
   "cell_type": "code",
   "execution_count": 24,
   "id": "95740c0c-53fe-4f25-bf26-240541e3201e",
   "metadata": {},
   "outputs": [
    {
     "name": "stdout",
     "output_type": "stream",
     "text": [
      "System 1 is acyclic: True\n",
      "System 2 is acyclic: True\n",
      "System 3 is acyclic: False\n"
     ]
    }
   ],
   "source": [
    "# create graphs for each given network\n",
    "G1 = nx.read_weighted_edgelist('acyclic1.edgelist',create_using=nx.DiGraph)\n",
    "G2 = nx.read_weighted_edgelist('acyclic2.edgelist',create_using=nx.DiGraph)\n",
    "G3 = nx.read_weighted_edgelist('acyclic3.edgelist',create_using=nx.DiGraph)\n",
    "\n",
    "# output result of acyclic test\n",
    "print('System 1 is acyclic: %s' % is_acyclic(G1))\n",
    "print('System 2 is acyclic: %s' % is_acyclic(G2))\n",
    "print('System 3 is acyclic: %s' % is_acyclic(G3))"
   ]
  },
  {
   "cell_type": "markdown",
   "id": "3be09585-8577-40e1-a78c-2e12a56c101d",
   "metadata": {},
   "source": [
    "Section 6.5: Hypergraphs"
   ]
  },
  {
   "cell_type": "markdown",
   "id": "44180db9-f410-4cd5-b494-56391775f9bf",
   "metadata": {},
   "source": [
    "I have read the Hypergraph section of the book"
   ]
  },
  {
   "cell_type": "markdown",
   "id": "97ffbeea-207f-4fb5-9936-4518829ef107",
   "metadata": {},
   "source": [
    "Section 6.6: Bipartite Networks"
   ]
  },
  {
   "cell_type": "markdown",
   "id": "978872e5-384a-4165-91a8-86af92a6f053",
   "metadata": {},
   "source": [
    "import the 2013 IMDB bipartite network"
   ]
  },
  {
   "cell_type": "code",
   "execution_count": 25,
   "id": "f39db50c-7b01-4bc9-9dcc-e03c6b4f928c",
   "metadata": {},
   "outputs": [],
   "source": [
    "B = nx.read_gml('2013-actor-movie-bipartite.gml','name')"
   ]
  },
  {
   "cell_type": "markdown",
   "id": "11382237-1a2b-4a00-be7d-3195c0501afc",
   "metadata": {},
   "source": [
    "I believe that bibliographic coupling would be best to define the one-mode projection, because of the similarities of eq (6.17) & (6.10)"
   ]
  },
  {
   "cell_type": "markdown",
   "id": "1882ba21-23f2-44fc-a210-e682997953c0",
   "metadata": {},
   "source": [
    "use the bibliographic coupling function to create a one-mode projection of the network & print the neighbors of Will Ferrell and Jason Statham"
   ]
  },
  {
   "cell_type": "code",
   "execution_count": 26,
   "id": "251432cd-de59-4201-ae59-b171fbf42a40",
   "metadata": {},
   "outputs": [
    {
     "name": "stdout",
     "output_type": "stream",
     "text": [
      "Will Ferrell: ['Brad Pitt', 'Matt Damon', 'Bradley Cooper', 'Mark Wahlberg', 'Melissa McCarthy', 'Ben Affleck', 'Dwayne Johnson', 'Natalie Portman', 'Tina Fey', 'Steve Carell', 'Seth Rogen', 'Amy Adams', 'Ben Stiller', 'Jonah Hill', 'Paul Rudd', 'Julianne Moore', 'Rachel McAdams', 'Kristen Wiig', 'Owen Wilson', 'Jason Bateman']\n",
      "Jason Statham: ['Brad Pitt', 'Tom Cruise', 'Mark Wahlberg', 'Robert De Niro', 'Javier Bardem', 'Chris Evans', 'Charlize Theron', 'Bruce Willis', 'Jamie Foxx', 'Sylvester Stallone', 'Liam Hemsworth']\n"
     ]
    }
   ],
   "source": [
    "P = bibliographic_coupling(B)                                   # create one-mode projection using bibliographic coupling function\n",
    "print('Will Ferrell: %s' % list(P.neighbors('Will Ferrell')))   # print neighbors of Will Ferrell\n",
    "print('Jason Statham: %s' % list(P.neighbors('Jason Statham'))) # print neighbors of Jason Statham"
   ]
  },
  {
   "cell_type": "markdown",
   "id": "dde8cc5d-9150-42df-b4f1-f2e89e8c8641",
   "metadata": {},
   "source": [
    "This informaion could be used to learn more about these actors because you are able to see what costars they had, and what costars they had in common"
   ]
  },
  {
   "cell_type": "markdown",
   "id": "8a180df4-08b4-4b0e-bd8a-8c278c6fcd5a",
   "metadata": {},
   "source": [
    "What are the number of neighbors for Zac Efron & Clint Eastwood"
   ]
  },
  {
   "cell_type": "code",
   "execution_count": 27,
   "id": "a00bac76-5b92-4eed-8435-44d7b8515962",
   "metadata": {},
   "outputs": [
    {
     "name": "stdout",
     "output_type": "stream",
     "text": [
      "Zac Efron Costars: ['Robert De Niro']\n",
      "Degree: 1\n",
      "Clint Eastwood Costars : ['Meryl Streep']\n",
      "Degree: 1\n"
     ]
    }
   ],
   "source": [
    "print('Zac Efron Costars: %s' % list(P.neighbors('Zac Efron')))            # print list of Zac Efron costars\n",
    "print('Degree: %i' % P.degree('Zac Efron'))                                # print degree of Zac Efron node (number of costars in this network)\n",
    "print('Clint Eastwood Costars : %s' % list(P.neighbors('Clint Eastwood'))) # print list of Clint Eastwood costars\n",
    "print('Degree: %i' % P.degree('Clint Eastwood'))                           # print degree of Clint Eastwood node (number of costars in this network)"
   ]
  },
  {
   "cell_type": "markdown",
   "id": "5c62ec08-6050-456d-ba29-f6baf8eb8968",
   "metadata": {},
   "source": [
    "it is surprising that these famous actors have only 1 degreee in this network"
   ]
  },
  {
   "cell_type": "markdown",
   "id": "6999ea53-d964-472a-bfa9-f9726dfc3ea6",
   "metadata": {},
   "source": [
    "Section 6.7: Trees"
   ]
  },
  {
   "cell_type": "markdown",
   "id": "2aa8a941-b8b0-45ae-8ecc-deb2abf4b7bf",
   "metadata": {},
   "source": [
    "The difference between a directed tree and an directed acyclic graph is that a directed tree would still be a tree if the directions were ignored, meaning that there are no loops, even without directions, but a directed acyclic graph could have loops that exist if directions are ignored."
   ]
  },
  {
   "cell_type": "markdown",
   "id": "d56dec84-0c32-4862-be4f-1749fdab47dc",
   "metadata": {},
   "source": [
    "an examplee of a directed acyclic graph which is not a directed tree is shown in the PDF document"
   ]
  },
  {
   "cell_type": "markdown",
   "id": "b3f64c4b-b4f5-4d33-977d-92001ed75ece",
   "metadata": {},
   "source": [
    "the example is a directed acyclic graph because all edges point downward, but if the directions are ignore, there is a loop containing nodes 2,3, & 4, therefore it is not a directed tree graph"
   ]
  },
  {
   "cell_type": "markdown",
   "id": "5b548cc4-2bc6-4a60-80fc-03543e56ff8d",
   "metadata": {},
   "source": [
    "Section 6.8: Planar Networks"
   ]
  },
  {
   "cell_type": "markdown",
   "id": "17456b09-19fa-4164-bd39-92e1fb56de6e",
   "metadata": {},
   "source": [
    "there are no questions in this section"
   ]
  },
  {
   "cell_type": "markdown",
   "id": "1dace2ac-f20c-4dce-bbee-85156b162f50",
   "metadata": {},
   "source": [
    "I have read the planar networks section of the book"
   ]
  }
 ],
 "metadata": {
  "kernelspec": {
   "display_name": "Python 3 (ipykernel)",
   "language": "python",
   "name": "python3"
  },
  "language_info": {
   "codemirror_mode": {
    "name": "ipython",
    "version": 3
   },
   "file_extension": ".py",
   "mimetype": "text/x-python",
   "name": "python",
   "nbconvert_exporter": "python",
   "pygments_lexer": "ipython3",
   "version": "3.9.13"
  }
 },
 "nbformat": 4,
 "nbformat_minor": 5
}
