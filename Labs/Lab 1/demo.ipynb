{
 "cells": [
  {
   "cell_type": "code",
   "execution_count": 1,
   "metadata": {},
   "outputs": [],
   "source": [
    "import networkx as nx"
   ]
  },
  {
   "cell_type": "code",
   "execution_count": 7,
   "metadata": {},
   "outputs": [],
   "source": [
    "G = nx.read_gml('proofwikidefs_la.gml','name') # make sure this gml file is in the same folder!"
   ]
  },
  {
   "cell_type": "markdown",
   "metadata": {},
   "source": [
    "## Basics"
   ]
  },
  {
   "cell_type": "markdown",
   "metadata": {},
   "source": [
    "First off, take a look at this Introduction to Networkx: [https://networkx.org/documentation/stable/reference/introduction.html#](https://networkx.org/documentation/stable/reference/introduction.html#)"
   ]
  },
  {
   "cell_type": "code",
   "execution_count": 8,
   "metadata": {},
   "outputs": [
    {
     "data": {
      "image/png": "[encoded data removed]",
      "text/plain": [
       "<Figure size 432x288 with 1 Axes>"
      ]
     },
     "metadata": {},
     "output_type": "display_data"
    }
   ],
   "source": [
    "N = nx.Graph()\n",
    "N.add_edge('A','B',weight=3)\n",
    "N.add_edge('A','C')\n",
    "N.add_edge('C','D')\n",
    "N.add_edge('B','D')\n",
    "N.add_edge('B','E')\n",
    "nx.draw(N)"
   ]
  },
  {
   "cell_type": "code",
   "execution_count": 16,
   "metadata": {},
   "outputs": [
    {
     "name": "stdout",
     "output_type": "stream",
     "text": [
      "12\n"
     ]
    }
   ],
   "source": [
    "N['A']['B']['weight']"
   ]
  },
  {
   "cell_type": "markdown",
   "metadata": {},
   "source": [
    "## Looping over nodes\n",
    "\n",
    "We'll start by looping over all the nodes of the network and will confirm equation (6.20), which says that summing the degrees over the network equals twice the number of edges: $2m = \\sum_{i=1}^n k_i$"
   ]
  },
  {
   "cell_type": "code",
   "execution_count": 5,
   "metadata": {},
   "outputs": [
    {
     "name": "stdout",
     "output_type": "stream",
     "text": [
      "Same:  2066 =?= 2066\n"
     ]
    }
   ],
   "source": [
    "cum_degree = 0\n",
    "m = G.number_of_edges()\n",
    "for u in G:  # OR for u in G.nodes():\n",
    "    cum_degree = cum_degree + G.degree(u)\n",
    "print('Same:  %i =?= %i' % (cum_degree, 2*m) )"
   ]
  },
  {
   "cell_type": "markdown",
   "metadata": {},
   "source": [
    "### Looping over a node's neighbors\n",
    "\n",
    "In this case we'll loop over the neighbors of the node named \"Identity Matrix\" and print out information about the edges between these neighbors."
   ]
  },
  {
   "cell_type": "code",
   "execution_count": 6,
   "metadata": {},
   "outputs": [
    {
     "name": "stdout",
     "output_type": "stream",
     "text": [
      "The edge (Identity Matrix , Identity Matrix/Definition 1) has weight 1\n",
      "The edge (Identity Matrix , Matrix Space) has weight 1\n",
      "The edge (Identity Matrix , Order of Square Matrix) has weight 1\n",
      "The edge (Identity Matrix , Square Matrix) has weight 1\n",
      "The edge (Identity Matrix , Diagonal Element) has weight 1\n",
      "The edge (Diagonal Element , Identity Matrix) has weight 1\n",
      "The edge (Identity Matrix , Identity Matrix/Definition 2) has weight 1\n",
      "The edge (Identity Matrix , Ones Matrix) has weight 1\n",
      "The edge (Identity Matrix , Trace of Matrix) has weight 1\n",
      "The edge (Trace of Matrix , Identity Matrix) has weight 1\n",
      "The edge (Identity Matrix , Principal Diagonal) has weight 1\n",
      "The edge (Principal Diagonal , Identity Matrix) has weight 1\n",
      "The edge (Identity Matrix , Invertible Matrix) has weight 1\n",
      "The edge (Invertible Matrix , Identity Matrix) has weight 1\n"
     ]
    }
   ],
   "source": [
    "u = 'Identity Matrix'\n",
    "for v in G[u]:\n",
    "    if G.has_edge(u,v):\n",
    "        print('The edge (%s , %s) has weight %i' % (u,v,G[u][v]['weight']))\n",
    "    if G.has_edge(v,u):\n",
    "        print('The edge (%s , %s) has weight %i' % (v,u,G[v][u]['weight']))"
   ]
  },
  {
   "cell_type": "markdown",
   "metadata": {},
   "source": [
    "*Notice that these could be in or out neighbors and sometimes both!*"
   ]
  },
  {
   "cell_type": "markdown",
   "metadata": {},
   "source": [
    "Now let's loop over just the out-neighbors (successors) instead:"
   ]
  },
  {
   "cell_type": "code",
   "execution_count": 7,
   "metadata": {},
   "outputs": [
    {
     "name": "stdout",
     "output_type": "stream",
     "text": [
      "Node Identity Matrix/Definition 1 has degree 7\n",
      "Node Matrix Space has degree 20\n",
      "Node Order of Square Matrix has degree 6\n",
      "Node Square Matrix has degree 46\n",
      "Node Diagonal Element has degree 11\n",
      "Node Identity Matrix/Definition 2 has degree 1\n",
      "Node Ones Matrix has degree 3\n",
      "Node Trace of Matrix has degree 7\n",
      "Node Principal Diagonal has degree 4\n",
      "Node Invertible Matrix has degree 6\n"
     ]
    }
   ],
   "source": [
    "u = 'Identity Matrix'\n",
    "for v in G.successors(u):\n",
    "    print('Node %s has degree %i' % (v,G.degree(v)))"
   ]
  },
  {
   "cell_type": "markdown",
   "metadata": {},
   "source": [
    "### Looping over pairs of nodes"
   ]
  },
  {
   "cell_type": "code",
   "execution_count": 8,
   "metadata": {},
   "outputs": [
    {
     "name": "stdout",
     "output_type": "stream",
     "text": [
      "These nodes have the same degree: Vector (Euclidean Space) and R-Algebraic Structure\n",
      "These nodes have the same degree: Dimension of Vector Space and Determinant\n",
      "These nodes have the same degree: Dimension of Vector Space and Identity Matrix\n",
      "These nodes have the same degree: Dimension of Vector Space and Unitary Module\n",
      "These nodes have the same degree: Determinant and Identity Matrix\n",
      "These nodes have the same degree: Determinant and Unitary Module\n",
      "These nodes have the same degree: Identity Matrix and Unitary Module\n"
     ]
    }
   ],
   "source": [
    "import itertools\n",
    "\n",
    "for u,v in itertools.combinations(G.nodes(),2):\n",
    "    if G.degree(u) == G.degree(v) and G.degree(u) > 20:\n",
    "        print('These nodes have the same degree: %s and %s' % ( u , v ) )"
   ]
  },
  {
   "cell_type": "markdown",
   "metadata": {},
   "source": [
    "## Set Manipulations\n",
    "\n",
    "To help with the cocitation where you need to see if two arrays have any elements in common, we can use sets to do this easily. \n",
    "> check out more about sets here: [https://docs.python.org/2/library/sets.html](https://docs.python.org/2/library/sets.html)"
   ]
  },
  {
   "cell_type": "code",
   "execution_count": 9,
   "metadata": {},
   "outputs": [
    {
     "name": "stdout",
     "output_type": "stream",
     "text": [
      "10\n",
      "10\n",
      "True\n",
      "False\n",
      "{8, 2, 4, 6}\n",
      "{8, 4, 6}\n",
      "set()\n",
      "{1, 2, 4, 5, 6, 8}\n"
     ]
    }
   ],
   "source": [
    "numbers = [0,1,2,3,4,5,6,7,8,9] # this is a list\n",
    "evens = [2,4,6,8] # list\n",
    "odds = [1,3,5,7,9] # list\n",
    "other = [1,4,5,6,8] # list\n",
    "\n",
    "numbers_set = set(numbers) # made another data structure that is a set, with all the same elements of the list.\n",
    "print(len(numbers))\n",
    "print(len(numbers_set))\n",
    "print(2 in evens)\n",
    "print(2 in odds)\n",
    "print(numbers_set.intersection(set(evens)))\n",
    "print(set(evens).intersection(set(other)))\n",
    "print(set(evens).intersection(set(odds)))\n",
    "print(set(other).union(set(evens)))"
   ]
  },
  {
   "cell_type": "markdown",
   "metadata": {},
   "source": [
    "## Some Sample Simple \"Algorithms\""
   ]
  },
  {
   "cell_type": "markdown",
   "metadata": {},
   "source": [
    "**Prompt:** Print out the cumulative weight of the incoming and outgoing edges of each node (only edges with positive weight)"
   ]
  },
  {
   "cell_type": "code",
   "execution_count": 83,
   "metadata": {},
   "outputs": [],
   "source": [
    "for u in G.nodes():\n",
    "    in_weight = 0\n",
    "    for v in G.predecessors(u):  # v --> u\n",
    "        if G[v][u]['weight'] > 0:\n",
    "            in_weight = in_weight + G[v][u]['weight']\n",
    "    out_weight = 0\n",
    "    for v in G.successors(u):  # u --> v\n",
    "        if G[u][v]['weight'] > 0:\n",
    "            out_weight = out_weight + G[u][v]['weight']\n",
    "    print('Node [%s] %i  %i' % (u,in_weight,out_weight))"
   ]
  },
  {
   "cell_type": "markdown",
   "metadata": {},
   "source": [
    "**Prompt:** Write a function that creates a directed path in which node 1->2->3->...->n-1->n"
   ]
  },
  {
   "cell_type": "code",
   "execution_count": 80,
   "metadata": {},
   "outputs": [
    {
     "name": "stdout",
     "output_type": "stream",
     "text": [
      "=======\n",
      "8 7\n"
     ]
    }
   ],
   "source": [
    "def my_path_network(n):\n",
    "    P = nx.DiGraph()\n",
    "    for u in range(1,n+1):\n",
    "        P.add_node(u)\n",
    "    for u in range(1,n):\n",
    "        P.add_edge(u,u+1)\n",
    "    return P\n",
    "\n",
    "G = my_path_network(8)\n",
    "print('=======')\n",
    "print(G.number_of_nodes(),G.number_of_edges())"
   ]
  },
  {
   "cell_type": "markdown",
   "metadata": {},
   "source": [
    "## Example Network from Slides"
   ]
  },
  {
   "cell_type": "markdown",
   "metadata": {},
   "source": [
    "Here is the example network used in the Class 2 slides to demonstrate cocitation and bibliographic coupling."
   ]
  },
  {
   "cell_type": "code",
   "execution_count": 67,
   "metadata": {},
   "outputs": [],
   "source": [
    "G = nx.DiGraph()\n",
    "G.add_nodes_from(range(1,8))\n",
    "G.add_edge(1,7)\n",
    "G.add_edge(3,1)\n",
    "G.add_edge(3,4)\n",
    "G.add_edge(4,1)\n",
    "G.add_edge(4,2)\n",
    "G.add_edge(4,3)\n",
    "G.add_edge(5,1)\n",
    "G.add_edge(5,2)\n",
    "G.add_edge(6,2)\n",
    "G.add_edge(7,2)"
   ]
  }
 ],
 "metadata": {
  "kernelspec": {
   "display_name": "Python 3 (ipykernel)",
   "language": "python",
   "name": "python3"
  },
  "language_info": {
   "codemirror_mode": {
    "name": "ipython",
    "version": 3
   },
   "file_extension": ".py",
   "mimetype": "text/x-python",
   "name": "python",
   "nbconvert_exporter": "python",
   "pygments_lexer": "ipython3",
   "version": "3.9.13"
  }
 },
 "nbformat": 4,
 "nbformat_minor": 4
}
